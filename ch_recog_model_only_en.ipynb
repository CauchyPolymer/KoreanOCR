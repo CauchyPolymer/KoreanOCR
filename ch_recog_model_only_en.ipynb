{
 "cells": [
  {
   "cell_type": "code",
   "execution_count": 1,
   "metadata": {
    "collapsed": false
   },
   "outputs": [
    {
     "name": "stdout",
     "output_type": "stream",
     "text": [
      "packs loaded\n"
     ]
    }
   ],
   "source": [
    "import numpy as np\n",
    "import tensorflow as tf\n",
    "import matplotlib.pyplot as plt\n",
    "from scipy.ndimage import imread\n",
    "import json\n",
    "import gzip\n",
    "import tarfile\n",
    "import random\n",
    "%matplotlib inline\n",
    "plt.rcParams['image.cmap'] = 'Greys'\n",
    "\n",
    "print(\"packs loaded\")"
   ]
  },
  {
   "cell_type": "code",
   "execution_count": 2,
   "metadata": {
    "collapsed": false
   },
   "outputs": [
    {
     "name": "stdout",
     "output_type": "stream",
     "text": [
      "en index loaded\n",
      "tar opened\n",
      " 0% complete (1 / 79200)\n",
      "13% complete (10001 / 79200)\n",
      "25% complete (20001 / 79200)\n",
      "38% complete (30001 / 79200)\n",
      "51% complete (40001 / 79200)\n",
      "63% complete (50001 / 79200)\n",
      "76% complete (60001 / 79200)\n",
      "88% complete (70001 / 79200)\n",
      "en image loaded\n"
     ]
    }
   ],
   "source": [
    "index_data_en = []\n",
    "\n",
    "with gzip.open('data/en/index.json.gz', 'rt') as arc:\n",
    "    index_data_en.extend(json.load(arc))\n",
    "    print(\"en index loaded\")\n",
    "    \n",
    "with tarfile.open('data/en/data.tar.gz', \"r|*\") as tar:\n",
    "    print(\"tar opened\")\n",
    "    img_data_en = []\n",
    "    for i, member in enumerate(index_data_en):\n",
    "        if i%10000 == 1:\n",
    "            print(\"%2.0f%% complete (%d / %d)\" % (i / len(index_data_en) * 100, i, len(index_data_en)))\n",
    "        ti = tar.next()\n",
    "        if ti.name != member['path']:\n",
    "            print(\"ERROR: order doesn't match\")\n",
    "            break;\n",
    "        f = tar.extractfile(ti)\n",
    "        img_data_en.append(1 - (imread(f)/255))\n",
    "    img_en = np.array(img_data_en)\n",
    "    del img_data_en\n",
    "    print(\"en image loaded\")"
   ]
  },
  {
   "cell_type": "code",
   "execution_count": 3,
   "metadata": {
    "collapsed": false
   },
   "outputs": [
    {
     "name": "stdout",
     "output_type": "stream",
     "text": [
      "en label loaded\n"
     ]
    }
   ],
   "source": [
    "en_chset = []\n",
    "en_chset.extend([\"0\", \"1\", \"2\", \"3\", \"4\", \"5\", \"6\", \"7\", \"8\", \"9\"])\n",
    "en_chset.extend([\"a\", \"b\", \"c\", \"d\", \"e\", \"f\", \"g\", \"h\", \"i\", \"j\", \"k\", \"l\", \"m\", \"n\",\\\n",
    "              \"o\", \"p\", \"q\", \"r\", \"s\", \"t\", \"u\", \"v\", \"w\", \"x\", \"y\", \"z\"])\n",
    "en_chset.extend([\"A\", \"B\", \"C\", \"D\", \"E\", \"F\", \"G\", \"H\", \"I\", \"J\", \"K\", \"L\", \"M\", \"N\",\\\n",
    "              \"O\", \"P\", \"Q\", \"R\", \"S\", \"T\", \"U\", \"V\", \"W\", \"X\", \"Y\", \"Z\"])\n",
    "en_chset.extend([\"(\", \")\", \"'\", \"\\\"\", \".\", \",\", \":\", \";\", \"!\", \"?\", \"/\", \"@\", \"#\", \"$\",\\\n",
    "              \"%\", \"^\", \"&\", \"*\", \"[\", \"]\", \"{\", \"}\", \"<\", \">\", \"~\", \"-\"])\n",
    "\n",
    "label_en = np.zeros([img_en.shape[0], len(en_chset)])\n",
    "for i, member in enumerate(index_data_en):\n",
    "    label_en[i][en_chset.index(member['target'])] = 1\n",
    "    \n",
    "print(\"en label loaded\")"
   ]
  },
  {
   "cell_type": "code",
   "execution_count": 4,
   "metadata": {
    "collapsed": false
   },
   "outputs": [
    {
     "name": "stdout",
     "output_type": "stream",
     "text": [
      "shuffled\n"
     ]
    }
   ],
   "source": [
    "def getIndex(l, indexes):\n",
    "    return [l[i] for i in indexes]\n",
    "\n",
    "def shuffle(n, *lists):\n",
    "    perm = np.random.permutation(n)\n",
    "    lists = list(lists)\n",
    "    for i in range(len(lists)):\n",
    "        if hasattr(lists[i], \"shape\"):\n",
    "            lists[i] = lists[i][perm]\n",
    "        else:\n",
    "            lists[i] = getIndex(lists[i], perm)\n",
    "    return tuple(lists)\n",
    "\n",
    "img_en, label_en, index_data_en = shuffle(img_en.shape[0], img_en, label_en, index_data_en)\n",
    "\n",
    "print(\"shuffled\")"
   ]
  },
  {
   "cell_type": "code",
   "execution_count": 5,
   "metadata": {
    "collapsed": false
   },
   "outputs": [
    {
     "name": "stdout",
     "output_type": "stream",
     "text": [
      "(79200, 32, 32)\n",
      "{'target': '>', 'font': 'NanumGothic', 'path': '0076756.png', 'weight': 'NORMAL'}\n",
      "[ 0.  0.  0.  0.  0.  0.  0.  0.  0.  0.  0.  0.  0.  0.  0.  0.  0.  0.\n",
      "  0.  0.  0.  0.  0.  0.  0.  0.  0.  0.  0.  0.  0.  0.  0.  0.  0.  0.\n",
      "  0.  0.  0.  0.  0.  0.  0.  0.  0.  0.  0.  0.  0.  0.  0.  0.  0.  0.\n",
      "  0.  0.  0.  0.  0.  0.  0.  0.  0.  0.  0.  0.  0.  0.  0.  0.  0.  0.\n",
      "  0.  0.  0.  0.  0.  0.  0.  0.  0.  0.  0.  0.  0.  1.  0.  0.]\n"
     ]
    },
    {
     "data": {
      "image/png": "[encoded data removed]",
      "text/plain": [
       "<matplotlib.figure.Figure at 0x7f15f7b6d6d8>"
      ]
     },
     "metadata": {},
     "output_type": "display_data"
    }
   ],
   "source": [
    "print(img_en.shape)\n",
    "plt.figure()\n",
    "plt.imshow(img_en[0], interpolation='none')\n",
    "print(index_data_en[0])\n",
    "print(label_en[0])"
   ]
  },
  {
   "cell_type": "code",
   "execution_count": 6,
   "metadata": {
    "collapsed": false
   },
   "outputs": [
    {
     "name": "stdout",
     "output_type": "stream",
     "text": [
      "function loaded\n"
     ]
    }
   ],
   "source": [
    "trainimg = img_en[:-5000]\n",
    "trainlabel = label_en[:-5000]\n",
    "testimg = img_en[-5000:]\n",
    "testlabel = label_en[-5000:]\n",
    "randidx = np.random.randint(trainimg.shape[0], size=2)\n",
    "\n",
    "def get_batch(i, batch_size, input_var):\n",
    "    if batch_size > input_var.shape[0]:\n",
    "        return input_var\n",
    "    start = (i*batch_size)%input_var.shape[0]\n",
    "    overflow = start + batch_size - input_var.shape[0]\n",
    "    if overflow <= 0:\n",
    "        return input_var[start:start+batch_size]\n",
    "    else:\n",
    "        return np.r_[input_var[start:], input_var[:overflow]]\n",
    "    \n",
    "def flatten_cnn(layer):\n",
    "    layer_shape = layer.get_shape().as_list()\n",
    "    n_out = layer_shape[1] * layer_shape[2] * layer_shape[3]\n",
    "    return tf.reshape(layer, [-1, n_out])\n",
    "\n",
    "def build_nn(shape, X):\n",
    "    n_before = int(X.get_shape()[1])\n",
    "    W = tf.Variable(tf.truncated_normal([n_before, shape], stddev=0.1))\n",
    "    b = tf.Variable(tf.constant(0.1, shape=[shape]))\n",
    "    return tf.matmul(X, W)+b\n",
    "\n",
    "def build_cnn(cnn_shape, patch_shape, X):\n",
    "    n_before = int(X.get_shape()[3])\n",
    "    W = tf.Variable(tf.truncated_normal([patch_shape[0], patch_shape[1], n_before, cnn_shape], stddev=0.1))\n",
    "    b = tf.Variable(tf.constant(0.1, shape=[cnn_shape]))\n",
    "    layer = tf.nn.relu(tf.nn.conv2d(X, W, strides=[1, 1, 1, 1], padding='SAME') + b)\n",
    "    layer = tf.nn.max_pool(layer, ksize=[1, 2, 2, 1], strides=[1, 2, 2, 1], padding='SAME')\n",
    "    return layer\n",
    "\n",
    "print(\"function loaded\")"
   ]
  },
  {
   "cell_type": "code",
   "execution_count": 8,
   "metadata": {
    "collapsed": false
   },
   "outputs": [],
   "source": [
    "X = tf.placeholder(tf.float32, [None, 32, 32])\n",
    "Y = tf.placeholder(tf.float32, [None, 88])\n",
    "keep_prob = tf.placeholder(tf.float32)\n",
    "\n",
    "cnn_1 = build_cnn(32, [5,5], tf.reshape(X, [-1, 32, 32, 1]))\n",
    "cnn_2 = build_cnn(64, [5,5], cnn_1)\n",
    "\n",
    "dense_1 = tf.nn.relu(build_nn(1024, flatten_cnn(cnn_2)))\n",
    "dropout_1 = tf.nn.dropout(dense_1, keep_prob)\n",
    "\n",
    "dense_2 = tf.nn.relu(build_nn(88, dropout_1))\n",
    "hypothesis = tf.nn.softmax(dense_2)\n",
    "\n",
    "learning_rate = tf.placeholder(tf.float32)\n",
    "cost = tf.reduce_mean(-tf.reduce_sum(Y * tf.log(hypothesis), reduction_indices=[1]))\n",
    "\n",
    "train = tf.train.AdamOptimizer(learning_rate).minimize(cost)"
   ]
  },
  {
   "cell_type": "code",
   "execution_count": 10,
   "metadata": {
    "collapsed": false
   },
   "outputs": [
    {
     "name": "stdout",
     "output_type": "stream",
     "text": [
      "Training 74200, mini-batch 100 * 742\n",
      "     0th epoch : test accuracy = 0.012\n",
      "     0th epoch : test accuracy = 0.437\n",
      "     0th epoch : test accuracy = 0.798\n",
      "     0th epoch : test accuracy = 0.887\n",
      "     1th epoch : test accuracy = 0.926\n",
      "     1th epoch : test accuracy = 0.936\n",
      "     1th epoch : test accuracy = 0.960\n",
      "     1th epoch : test accuracy = 0.976\n",
      "train complete : test accuracy = 0.979\n",
      "                 train accuracy = 0.985\n"
     ]
    }
   ],
   "source": [
    "sess = tf.Session()\n",
    "sess.run(tf.initialize_all_variables())\n",
    "\n",
    "trainsize = trainimg.shape[0]\n",
    "batchsize = 100\n",
    "batch_per_epoch = int(trainsize/batchsize)\n",
    "print (\"Training %d, mini-batch %d * %d\" % (trainsize, batchsize, batch_per_epoch))\n",
    "\n",
    "correct_prediction = tf.equal(tf.argmax(Y,1), tf.argmax(hypothesis,1))\n",
    "accuracy = tf.reduce_mean(tf.cast(correct_prediction, tf.float32))\n",
    "\n",
    "lr = 0.0003\n",
    "for i in range(batch_per_epoch*2):\n",
    "    if i % 200 == 0 :\n",
    "        print (\"%6dth epoch : test accuracy = %.3f\" % \\\n",
    "               (i / batch_per_epoch, sess.run(accuracy, feed_dict={X:testimg, Y:testlabel, keep_prob:1})))\n",
    "        \n",
    "    batch_x = get_batch(i, batchsize, trainimg)\n",
    "    batch_y = get_batch(i, batchsize, trainlabel)\n",
    "    sess.run(train, feed_dict={X:batch_x, Y:batch_y, keep_prob:0.5, learning_rate:lr})\n",
    "    lr = lr * (1 - 0.0003)\n",
    "    \n",
    "train_accuracy = 0\n",
    "for i in range(batch_per_epoch):\n",
    "    batch_x = get_batch(i, batchsize, trainimg)\n",
    "    batch_y = get_batch(i, batchsize, trainlabel)\n",
    "    train_accuracy += sess.run(accuracy, feed_dict={X:batch_x, Y:batch_y, keep_prob:1})\n",
    "        \n",
    "print (\"train complete : test accuracy = %.3f\" % (sess.run(accuracy, feed_dict={X:testimg, Y:testlabel, keep_prob:1})))\n",
    "print (\"                 train accuracy = %.3f\" % (train_accuracy / batch_per_epoch))"
   ]
  },
  {
   "cell_type": "code",
   "execution_count": 11,
   "metadata": {
    "collapsed": false,
    "scrolled": false
   },
   "outputs": [
    {
     "name": "stdout",
     "output_type": "stream",
     "text": [
      "Error rate\n",
      "0 :  0% (   0 /   62)\n",
      "1 :  3% (   2 /   58)     1 errors with l\n",
      "2 :  0% (   0 /   44)\n",
      "3 :  0% (   0 /   68)\n",
      "4 :  0% (   0 /   65)\n",
      "5 :  3% (   2 /   64)     1 errors with S\n",
      "6 :  2% (   1 /   66)     1 errors with 0\n",
      "7 :  0% (   0 /   69)\n",
      "8 :  0% (   0 /   49)\n",
      "9 :  0% (   0 /   55)\n",
      "a :  0% (   0 /   58)\n",
      "b :  0% (   0 /   53)\n",
      "c :  2% (   1 /   53)     1 errors with <\n",
      "d :  0% (   0 /   63)\n",
      "e :  2% (   1 /   50)     1 errors with o\n",
      "f :  3% (   2 /   63)     1 errors with l\n",
      "g :  8% (   5 /   65)     5 errors with q\n",
      "h :  0% (   0 /   57)\n",
      "i :  5% (   3 /   64)     2 errors with l\n",
      "j :  0% (   0 /   57)\n",
      "k :  0% (   0 /   46)\n",
      "l : 37% (  20 /   54)    12 errors with I\n",
      "m :  0% (   0 /   51)\n",
      "n :  0% (   0 /   69)\n",
      "o :  0% (   0 /   57)\n",
      "p :  0% (   0 /   52)\n",
      "q :  0% (   0 /   51)\n",
      "r :  2% (   1 /   48)     1 errors with t\n",
      "s :  0% (   0 /   52)\n",
      "t : 10% (   4 /   42)     1 errors with i\n",
      "u :  0% (   0 /   51)\n",
      "v :  2% (   1 /   45)     1 errors with y\n",
      "w :  0% (   0 /   60)\n",
      "x :  0% (   0 /   70)\n",
      "y :  0% (   0 /   59)\n",
      "z :  3% (   2 /   62)     2 errors with Z\n",
      "A :  0% (   0 /   47)\n",
      "B :  0% (   0 /   52)\n",
      "C :  0% (   0 /   66)\n",
      "D :  0% (   0 /   53)\n",
      "E :  0% (   0 /   53)\n",
      "F :  2% (   1 /   59)     1 errors with P\n",
      "G :  0% (   0 /   63)\n",
      "H :  5% (   3 /   61)     2 errors with }\n",
      "I : 33% (  13 /   39)    10 errors with l\n",
      "J :  0% (   0 /   54)\n",
      "K :  0% (   0 /   63)\n",
      "L :  3% (   2 /   63)     1 errors with U\n",
      "M :  0% (   0 /   48)\n",
      "N :  0% (   0 /   61)\n",
      "O :  4% (   2 /   57)     1 errors with 0\n",
      "P :  3% (   2 /   67)     1 errors with F\n",
      "Q :  0% (   0 /   51)\n",
      "R :  0% (   0 /   57)\n",
      "S :  0% (   0 /   50)\n",
      "T :  0% (   0 /   47)\n",
      "U :  0% (   0 /   59)\n",
      "V :  0% (   0 /   41)\n",
      "W :  0% (   0 /   58)\n",
      "X :  0% (   0 /   57)\n",
      "Y :  2% (   1 /   54)     1 errors with 1\n",
      "Z :  0% (   0 /   59)\n",
      "( :  2% (   1 /   63)     1 errors with {\n",
      ") :  6% (   3 /   54)     3 errors with }\n",
      "' :  3% (   2 /   64)     1 errors with h\n",
      "\" :  1% (   1 /   68)     1 errors with '\n",
      ". : 15% (   8 /   52)     8 errors with ,\n",
      ", :  0% (   0 /   56)\n",
      ": :  2% (   1 /   54)     1 errors with ;\n",
      "; : 17% (   8 /   48)     8 errors with :\n",
      "! :  5% (   3 /   65)     3 errors with I\n",
      "? :  1% (   1 /   67)     1 errors with 7\n",
      "/ :  4% (   2 /   57)     1 errors with 7\n",
      "@ :  0% (   0 /   54)\n",
      "# :  0% (   0 /   56)\n",
      "$ :  2% (   1 /   63)     1 errors with 5\n",
      "% :  0% (   0 /   59)\n",
      "^ :  0% (   0 /   57)\n",
      "& :  2% (   1 /   60)     1 errors with k\n",
      "* :  5% (   3 /   58)     2 errors with \"\n",
      "[ :  5% (   3 /   63)     2 errors with {\n",
      "] :  0% (   0 /   48)\n",
      "{ :  0% (   0 /   50)\n",
      "} :  0% (   0 /   53)\n",
      "< :  0% (   0 /   62)\n",
      "> :  0% (   0 /   60)\n",
      "~ :  0% (   0 /   59)\n",
      "- :  0% (   0 /   59)\n"
     ]
    }
   ],
   "source": [
    "h = sess.run(hypothesis, feed_dict={X:testimg, Y:testlabel, keep_prob:1})\n",
    "y = testlabel\n",
    "n_error = np.zeros([y.shape[0], y.shape[0]])\n",
    "n_all = np.zeros(y.shape[0])\n",
    "\n",
    "for i in range(y.shape[0]):\n",
    "    n_all[np.argmax(y[i])] += 1\n",
    "    if (np.argmax(h[i]) != np.argmax(y[i])):\n",
    "        n_error[np.argmax(y[i])][np.argmax(h[i])] += 1\n",
    "\n",
    "        \n",
    "print (\"Error rate\")\n",
    "for i, ch in enumerate(en_chset):\n",
    "    most_error = np.argmax(n_error[i])\n",
    "    print (\"%s : %2.0f%% (%4d / %4d)\" %\n",
    "           (ch, float(np.sum(n_error[i])) / n_all[i] * 100, np.sum(n_error[i]), n_all[i]), end=\"\")\n",
    "    if n_error[i][most_error] > 0:\n",
    "        print (\"%6d errors with %s\" % (n_error[i][most_error], en_chset[most_error]))\n",
    "    else:\n",
    "        print (\"\")"
   ]
  },
  {
   "cell_type": "code",
   "execution_count": null,
   "metadata": {
    "collapsed": true
   },
   "outputs": [],
   "source": []
  }
 ],
 "metadata": {
  "kernelspec": {
   "display_name": "Python 3",
   "language": "python",
   "name": "python3"
  },
  "language_info": {
   "codemirror_mode": {
    "name": "ipython",
    "version": 3
   },
   "file_extension": ".py",
   "mimetype": "text/x-python",
   "name": "python",
   "nbconvert_exporter": "python",
   "pygments_lexer": "ipython3",
   "version": "3.4.3"
  }
 },
 "nbformat": 4,
 "nbformat_minor": 1
}
