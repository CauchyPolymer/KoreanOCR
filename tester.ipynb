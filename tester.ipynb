{
 "cells": [
  {
   "cell_type": "code",
   "execution_count": null,
   "metadata": {
    "collapsed": false
   },
   "outputs": [],
   "source": [
    "from chrecog.train import Trainer\n",
    "import data, tarfile\n",
    "import matplotlib.pyplot as plt\n",
    "%matplotlib inline\n",
    "plt.rcParams['image.cmap'] = 'Greys'"
   ]
  },
  {
   "cell_type": "code",
   "execution_count": null,
   "metadata": {
    "collapsed": false
   },
   "outputs": [],
   "source": [
    "tar = tarfile.open(\"data/tar/161020.tgz\", \"r:*\")\n",
    "label = data.get_label_from_tar(tar)\n",
    "\n",
    "trainer = Trainer(tar, label)\n",
    "trainer.init_session()\n",
    "trainer.load(\"data/ckpt/161020.ckpt\")"
   ]
  },
  {
   "cell_type": "code",
   "execution_count": null,
   "metadata": {
    "collapsed": false
   },
   "outputs": [],
   "source": [
    "trainer.print_test_accuracy()"
   ]
  },
  {
   "cell_type": "code",
   "execution_count": null,
   "metadata": {
    "collapsed": false
   },
   "outputs": [],
   "source": [
    "trainer.testimg.seek(0)\n",
    "testimg = trainer.testimg.read(10)\n",
    "plt.figure()\n",
    "plt.imshow(testimg[5])"
   ]
  },
  {
   "cell_type": "code",
   "execution_count": null,
   "metadata": {
    "collapsed": false
   },
   "outputs": [],
   "source": [
    "from chrecog.train import cnn_1_pool, cnn_2_pool, cnn_2_concat, cnn_3_pool, X, keep_prob\n",
    "import numpy as np\n",
    "cnnimg = trainer.sess.run(cnn_2_pool, feed_dict={X:testimg, keep_prob:1})\n",
    "\n",
    "cnnimg_s = np.squeeze(cnnimg[5][:,:,72])\n",
    "print(cnnimg.shape)\n",
    "print(cnnimg_s.shape)\n",
    "plt.figure()\n",
    "plt.imshow(cnnimg_s, interpolation=\"none\")"
   ]
  },
  {
   "cell_type": "code",
   "execution_count": null,
   "metadata": {
    "collapsed": true
   },
   "outputs": [],
   "source": []
  }
 ],
 "metadata": {
  "kernelspec": {
   "display_name": "tensor",
   "language": "python",
   "name": "tensor"
  },
  "language_info": {
   "codemirror_mode": {
    "name": "ipython",
    "version": 3
   },
   "file_extension": ".py",
   "mimetype": "text/x-python",
   "name": "python",
   "nbconvert_exporter": "python",
   "pygments_lexer": "ipython3",
   "version": "3.5.2"
  }
 },
 "nbformat": 4,
 "nbformat_minor": 1
}
