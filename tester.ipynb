{
 "cells": [
  {
   "cell_type": "code",
   "execution_count": null,
   "metadata": {
    "collapsed": false
   },
   "outputs": [],
   "source": [
    "from chrecog.predict import get_session, load_ckpt, cnn_3_1, X, is_training, get_pred_one, get_candidate, reshape_with_margin\n",
    "from data.gen import supported_fonts, supported_weights, get_mat, process_mat\n",
    "import preproc\n",
    "import cv2\n",
    "import numpy as np\n",
    "import matplotlib.pyplot as plt\n",
    "%matplotlib inline\n",
    "plt.rcParams['image.cmap'] = 'Greys'"
   ]
  },
  {
   "cell_type": "code",
   "execution_count": null,
   "metadata": {
    "collapsed": false
   },
   "outputs": [],
   "source": [
    "sess = get_session()\n",
    "load_ckpt(sess, \"data/ckpt/161117_BN2.ckpt\")"
   ]
  },
  {
   "cell_type": "code",
   "execution_count": null,
   "metadata": {
    "collapsed": true
   },
   "outputs": [],
   "source": [
    "def generate_img(ch):\n",
    "    return 1 - process_mat(get_mat(ch)) / 255\n",
    "\n",
    "def open_img(path):\n",
    "    img = cv2.imread(path)\n",
    "    processed = preproc.process(img, False)\n",
    "    return reshape_with_margin(processed) / 255\n",
    "\n",
    "def test_img(img):\n",
    "    pred = get_pred_one(img)\n",
    "    cnnimg = sess.run(cnn_3_1, feed_dict={X:np.array([img]), is_training:False})\n",
    "    value = get_candidate(pred)\n",
    "    print(value)\n",
    "    plt.figure(figsize=(1,1))\n",
    "    plt.xticks(())\n",
    "    plt.yticks(())\n",
    "    plt.imshow(img)\n",
    "    plt.figure()\n",
    "    for i in range(cnnimg.shape[3]):\n",
    "        plt.subplot(4, 4, i + 1)\n",
    "        plt.xticks(())\n",
    "        plt.yticks(())\n",
    "        plt.imshow(np.squeeze(cnnimg[0][:,:,i]), interpolation=\"none\")"
   ]
  },
  {
   "cell_type": "code",
   "execution_count": null,
   "metadata": {
    "collapsed": false,
    "scrolled": false
   },
   "outputs": [],
   "source": [
    "testimg = generate_img(('대'))\n",
    "openimg = open_img('data/DAE.png')\n",
    "\n",
    "test_img(testimg)\n",
    "test_img(openimg)"
   ]
  },
  {
   "cell_type": "code",
   "execution_count": null,
   "metadata": {
    "collapsed": true
   },
   "outputs": [],
   "source": []
  },
  {
   "cell_type": "code",
   "execution_count": null,
   "metadata": {
    "collapsed": true
   },
   "outputs": [],
   "source": []
  }
 ],
 "metadata": {
  "kernelspec": {
   "display_name": "Python 3",
   "language": "python",
   "name": "python3"
  },
  "language_info": {
   "codemirror_mode": {
    "name": "ipython",
    "version": 3
   },
   "file_extension": ".py",
   "mimetype": "text/x-python",
   "name": "python",
   "nbconvert_exporter": "python",
   "pygments_lexer": "ipython3",
   "version": "3.5.2"
  }
 },
 "nbformat": 4,
 "nbformat_minor": 1
}
