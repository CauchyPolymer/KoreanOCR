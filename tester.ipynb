{
 "cells": [
  {
   "cell_type": "code",
   "execution_count": null,
   "metadata": {
    "collapsed": false
   },
   "outputs": [],
   "source": [
    "from chrecog.predict import get_session, load_ckpt, cnn_2_reduce, X, is_training, get_pred_one, get_candidate\n",
    "from data.gen import supported_fonts, supported_weights, get_mat, process_mat\n",
    "import numpy as np\n",
    "import matplotlib.pyplot as plt\n",
    "%matplotlib inline\n",
    "plt.rcParams['image.cmap'] = 'Greys'"
   ]
  },
  {
   "cell_type": "code",
   "execution_count": null,
   "metadata": {
    "collapsed": false
   },
   "outputs": [],
   "source": [
    "sess = get_session()\n",
    "load_ckpt(sess, \"data/ckpt/161116_BN.ckpt\")"
   ]
  },
  {
   "cell_type": "code",
   "execution_count": null,
   "metadata": {
    "collapsed": true
   },
   "outputs": [],
   "source": [
    "def generate_img(chs):\n",
    "    return np.array([1 - process_mat(get_mat(ch))/255 for ch in chs])"
   ]
  },
  {
   "cell_type": "code",
   "execution_count": null,
   "metadata": {
    "collapsed": false,
    "scrolled": false
   },
   "outputs": [],
   "source": [
    "testimg = generate_img(('.', 'J', '\"', '!', 'A', 'B'))\n",
    "cnnimg = sess.run(cnn_2_reduce, feed_dict={X:testimg, is_training:False})\n",
    "for k in range(testimg.shape[0]):\n",
    "    pred = get_pred_one(testimg[k])\n",
    "    value = get_candidate(pred)\n",
    "    print(value)\n",
    "    plt.figure()\n",
    "    plt.imshow(testimg[k])\n",
    "    plt.figure()\n",
    "    for i in range(16):\n",
    "        plt.subplot(4, 4, i + 1)\n",
    "        plt.xticks(())\n",
    "        plt.yticks(())\n",
    "        plt.imshow(np.squeeze(cnnimg[k][:,:,i]), interpolation=\"none\")\n",
    "#print(cnnimg.shape)\n",
    "#print(cnnimg_s.shape)\n",
    "#plt.figure()\n",
    "#plt.imshow(cnnimg_s, interpolation=\"none\")"
   ]
  },
  {
   "cell_type": "code",
   "execution_count": null,
   "metadata": {
    "collapsed": true
   },
   "outputs": [],
   "source": []
  }
 ],
 "metadata": {
  "kernelspec": {
   "display_name": "Python 3",
   "language": "python",
   "name": "python3"
  },
  "language_info": {
   "codemirror_mode": {
    "name": "ipython",
    "version": 3
   },
   "file_extension": ".py",
   "mimetype": "text/x-python",
   "name": "python",
   "nbconvert_exporter": "python",
   "pygments_lexer": "ipython3",
   "version": "3.4.3"
  }
 },
 "nbformat": 4,
 "nbformat_minor": 1
}
