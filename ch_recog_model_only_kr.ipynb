{
 "cells": [
  {
   "cell_type": "code",
   "execution_count": 2,
   "metadata": {
    "collapsed": false
   },
   "outputs": [
    {
     "name": "stdout",
     "output_type": "stream",
     "text": [
      "packs loaded\n",
      "{\n",
      "  \"hb_port\": 37416,\n",
      "  \"shell_port\": 56665,\n",
      "  \"transport\": \"tcp\",\n",
      "  \"kernel_name\": \"\",\n",
      "  \"iopub_port\": 39579,\n",
      "  \"ip\": \"127.0.0.1\",\n",
      "  \"signature_scheme\": \"hmac-sha256\",\n",
      "  \"control_port\": 55576,\n",
      "  \"stdin_port\": 54117,\n",
      "  \"key\": \"db3a19fd-d241-4ad9-bc7d-3eb7092ce1bf\"\n",
      "}\n",
      "\n",
      "Paste the above JSON into a file, and connect with:\n",
      "    $> ipython <app> --existing <file>\n",
      "or, if you are local, you can connect with just:\n",
      "    $> ipython <app> --existing /run/user/128932/jupyter/kernel-77a0fd46-ca49-4d95-a850-3d607e6db076.json \n",
      "or even just:\n",
      "    $> ipython <app> --existing \n",
      "if this is the most recent IPython session you have started.\n"
     ]
    }
   ],
   "source": [
    "import numpy as np\n",
    "import tensorflow as tf\n",
    "import matplotlib.pyplot as plt\n",
    "from scipy.ndimage import imread\n",
    "import json\n",
    "import gzip\n",
    "import tarfile\n",
    "import random\n",
    "from hangul_utils import split_syllable_char, split_syllables, join_jamos\n",
    "%matplotlib inline\n",
    "plt.rcParams['image.cmap'] = 'Greys'\n",
    "\n",
    "print(\"packs loaded\")\n",
    "%connect_info"
   ]
  },
  {
   "cell_type": "code",
   "execution_count": 3,
   "metadata": {
    "collapsed": false
   },
   "outputs": [
    {
     "name": "stdout",
     "output_type": "stream",
     "text": [
      "ko index loaded\n",
      "tar opened\n",
      " 0% complete (1 / 211500)\n",
      " 5% complete (10001 / 211500)\n",
      " 9% complete (20001 / 211500)\n",
      "14% complete (30001 / 211500)\n",
      "19% complete (40001 / 211500)\n",
      "24% complete (50001 / 211500)\n",
      "28% complete (60001 / 211500)\n",
      "33% complete (70001 / 211500)\n",
      "38% complete (80001 / 211500)\n",
      "43% complete (90001 / 211500)\n",
      "47% complete (100001 / 211500)\n",
      "52% complete (110001 / 211500)\n",
      "57% complete (120001 / 211500)\n",
      "61% complete (130001 / 211500)\n",
      "66% complete (140001 / 211500)\n",
      "71% complete (150001 / 211500)\n",
      "76% complete (160001 / 211500)\n",
      "80% complete (170001 / 211500)\n",
      "85% complete (180001 / 211500)\n",
      "90% complete (190001 / 211500)\n",
      "95% complete (200001 / 211500)\n",
      "99% complete (210001 / 211500)\n",
      "ko image loaded\n"
     ]
    }
   ],
   "source": [
    "index_data_ko = []\n",
    "\n",
    "with gzip.open('data/ko/index.json.gz', 'rt') as arc:\n",
    "    index_data_ko.extend(json.load(arc))\n",
    "    print(\"ko index loaded\")\n",
    "    \n",
    "with tarfile.open('data/ko/data.tar.gz', \"r|*\") as tar:\n",
    "    print(\"tar opened\")\n",
    "    img_data_ko = []\n",
    "    for i, member in enumerate(index_data_ko):\n",
    "        if i%10000 == 1:\n",
    "            print(\"%2.0f%% complete (%d / %d)\" % (i / len(index_data_ko) * 100, i, len(index_data_ko)))\n",
    "        ti = tar.next()\n",
    "        if ti.name != member['path']:\n",
    "            print(\"ERROR: order doesn't match\")\n",
    "            break;\n",
    "        f = tar.extractfile(ti)\n",
    "        img_data_ko.append(1 - (imread(f)/255))\n",
    "    img_ko = np.array(img_data_ko)\n",
    "    del img_data_ko\n",
    "    print(\"ko image loaded\")"
   ]
  },
  {
   "cell_type": "code",
   "execution_count": 4,
   "metadata": {
    "collapsed": false
   },
   "outputs": [
    {
     "name": "stdout",
     "output_type": "stream",
     "text": [
      "ko label loaded\n"
     ]
    }
   ],
   "source": [
    "ko_chset_cho = [\"ㄱ\", \"ㄲ\", \"ㄴ\", \"ㄷ\", \"ㄸ\", \"ㄹ\", \"ㅁ\", \"ㅂ\", \"ㅃ\", \"ㅅ\", \"ㅆ\", \"ㅇ\", \"ㅈ\", \"ㅉ\", \"ㅊ\", \"ㅋ\", \"ㅌ\", \"ㅍ\", \"ㅎ\"]\n",
    "ko_chset_jung = [\"ㅏ\", \"ㅐ\", \"ㅑ\", \"ㅒ\", \"ㅓ\", \"ㅔ\", \"ㅕ\", \"ㅖ\", \"ㅗ\", \"ㅘ\", \"ㅙ\", \"ㅚ\", \"ㅛ\", \"ㅜ\", \"ㅝ\", \"ㅞ\", \"ㅟ\", \"ㅠ\", \"ㅡ\", \"ㅢ\", \"ㅣ\"]\n",
    "ko_chset_jong = [\"X\", \"ㄱ\", \"ㄲ\", \"ㄳ\", \"ㄴ\", \"ㄵ\", \"ㄶ\", \"ㄷ\", \"ㄹ\", \"ㄺ\", \"ㄻ\", \"ㄼ\", \"ㄽ\", \"ㄾ\", \"ㄿ\", \"ㅀ\", \"ㅁ\", \"ㅂ\", \"ㅄ\", \"ㅅ\", \"ㅆ\", \"ㅇ\", \"ㅈ\", \"ㅊ\", \"ㅋ\", \"ㅌ\", \"ㅍ\", \"ㅎ\"]\n",
    "\n",
    "label_ko_cho = np.zeros([img_ko.shape[0], len(ko_chset_cho)])\n",
    "label_ko_jung = np.zeros([img_ko.shape[0], len(ko_chset_jung)])\n",
    "label_ko_jong = np.zeros([img_ko.shape[0], len(ko_chset_jong)])\n",
    "for i, member in enumerate(index_data_ko):\n",
    "    splited = split_syllable_char(member['target'])\n",
    "    label_ko_cho[i][ko_chset_cho.index(splited[0])] = 1\n",
    "    label_ko_jung[i][ko_chset_jung.index(splited[1])] = 1\n",
    "    if len(splited) < 3:\n",
    "        label_ko_jong[i][0] = 1\n",
    "    else:\n",
    "        label_ko_jong[i][ko_chset_jong.index(splited[2])] = 1\n",
    "        \n",
    "label_ko = np.concatenate((label_ko_cho, label_ko_jung, label_ko_jong), axis=1)\n",
    "del label_ko_cho\n",
    "del label_ko_jung\n",
    "del label_ko_jong\n",
    "    \n",
    "print(\"ko label loaded\")"
   ]
  },
  {
   "cell_type": "code",
   "execution_count": 5,
   "metadata": {
    "collapsed": false
   },
   "outputs": [
    {
     "name": "stdout",
     "output_type": "stream",
     "text": [
      "shuffled\n"
     ]
    }
   ],
   "source": [
    "def getIndex(l, indexes):\n",
    "    return [l[i] for i in indexes]\n",
    "\n",
    "def shuffle(n, *lists):\n",
    "    perm = np.random.permutation(n)\n",
    "    lists = list(lists)\n",
    "    for i in range(len(lists)):\n",
    "        if hasattr(lists[i], \"shape\"):\n",
    "            lists[i] = lists[i][perm]\n",
    "        else:\n",
    "            lists[i] = getIndex(lists[i], perm)\n",
    "    return tuple(lists)\n",
    "\n",
    "img_ko, label_ko, index_data_ko = shuffle(\n",
    "    img_ko.shape[0], img_ko, label_ko, index_data_ko)\n",
    "\n",
    "print(\"shuffled\")"
   ]
  },
  {
   "cell_type": "code",
   "execution_count": 12,
   "metadata": {
    "collapsed": false
   },
   "outputs": [
    {
     "name": "stdout",
     "output_type": "stream",
     "text": [
      "(211500, 32, 32)\n",
      "{'weight': 'BOLD', 'path': '0107277.png', 'target': '솰', 'font': 'Dotum'}\n",
      "[ 0.  0.  0.  0.  0.  0.  0.  0.  0.  1.  0.  0.  0.  0.  0.  0.  0.  0.\n",
      "  0.  0.  0.  0.  0.  0.  0.  0.  0.  0.  1.  0.  0.  0.  0.  0.  0.  0.\n",
      "  0.  0.  0.  0.  0.  0.  0.  0.  0.  0.  0.  0.  1.  0.  0.  0.  0.  0.\n",
      "  0.  0.  0.  0.  0.  0.  0.  0.  0.  0.  0.  0.  0.  0.]\n"
     ]
    },
    {
     "data": {
      "image/png": "[encoded data removed]",
      "text/plain": [
       "<matplotlib.figure.Figure at 0x7fb6c3b63710>"
      ]
     },
     "metadata": {},
     "output_type": "display_data"
    }
   ],
   "source": [
    "print(img_ko.shape)\n",
    "plt.figure()\n",
    "plt.imshow(img_ko[0], interpolation='none')\n",
    "print(index_data_ko[0])\n",
    "print(label_ko[0])"
   ]
  },
  {
   "cell_type": "code",
   "execution_count": 131,
   "metadata": {
    "collapsed": false
   },
   "outputs": [
    {
     "name": "stdout",
     "output_type": "stream",
     "text": [
      "function loaded\n"
     ]
    }
   ],
   "source": [
    "trainimg = img_ko[:-5000]\n",
    "trainlabel = label_ko[:-5000]\n",
    "testimg = img_ko[-5000:]\n",
    "testlabel = label_ko[-5000:]\n",
    "randidx = np.random.randint(trainimg.shape[0], size=2)\n",
    "\n",
    "def get_batch(i, batch_size, input_var):\n",
    "    if batch_size > input_var.shape[0]:\n",
    "        return input_var\n",
    "    start = (i*batch_size)%input_var.shape[0]\n",
    "    overflow = start + batch_size - input_var.shape[0]\n",
    "    if overflow <= 0:\n",
    "        return input_var[start:start+batch_size]\n",
    "    else:\n",
    "        return np.r_[input_var[start:], input_var[:overflow]]\n",
    "    \n",
    "def flatten_cnn(layer):\n",
    "    layer_shape = layer.get_shape().as_list()\n",
    "    n_out = layer_shape[1] * layer_shape[2] * layer_shape[3]\n",
    "    return tf.reshape(layer, [-1, n_out])\n",
    "\n",
    "def build_nn(shape, X):\n",
    "    n_before = int(X.get_shape()[1])\n",
    "    W = tf.Variable(tf.truncated_normal([n_before, shape], stddev=0.1))\n",
    "    b = tf.Variable(tf.constant(0.1, shape=[shape]))\n",
    "    return tf.matmul(X, W)+b\n",
    "\n",
    "def build_cnn(cnn_shape, patch_shape, X, stride=1):\n",
    "    n_before = int(X.get_shape()[3])\n",
    "    W = tf.Variable(tf.truncated_normal([patch_shape[0], patch_shape[1], n_before, cnn_shape], stddev=0.1))\n",
    "    b = tf.Variable(tf.constant(0.1, shape=[cnn_shape]))\n",
    "    layer = tf.nn.relu(tf.nn.conv2d(X, W, strides=[1, stride, stride, 1], padding='SAME') + b)\n",
    "    return layer\n",
    "\n",
    "def max2d_pool(layer):\n",
    "    return tf.nn.max_pool(layer, ksize=[1, 2, 2, 1], strides=[1, 2, 2, 1], padding='SAME')\n",
    "\n",
    "print(\"function loaded\")"
   ]
  },
  {
   "cell_type": "code",
   "execution_count": 134,
   "metadata": {
    "collapsed": false
   },
   "outputs": [
    {
     "name": "stdout",
     "output_type": "stream",
     "text": [
      "session loaded\n"
     ]
    }
   ],
   "source": [
    "X = tf.placeholder(tf.float32, [None, 32, 32])\n",
    "Y = tf.placeholder(tf.float32, [None, label_ko.shape[1]])\n",
    "keep_prob = tf.placeholder(tf.float32)\n",
    "\n",
    "Y_cho = tf.slice(Y, [0, 0], [-1, len(ko_chset_cho)])\n",
    "Y_jung = tf.slice(Y, [0, len(ko_chset_cho)], [-1, len(ko_chset_jung)])\n",
    "Y_jong = tf.slice(Y, [0, len(ko_chset_cho)+len(ko_chset_jung)], [-1, len(ko_chset_jong)])\n",
    "\n",
    "# Small inception model\n",
    "# http://laonple.blog.me/220704822964\n",
    "X_reshape = tf.reshape(X, [-1, 32, 32, 1])\n",
    "cnn_1_5 = build_cnn(12, [5,5], X_reshape)\n",
    "cnn_1_3 = build_cnn(36, [3,3], X_reshape)\n",
    "cnn_1_concat = tf.concat(3, [cnn_1_5, cnn_1_3])\n",
    "cnn_1_pool = max2d_pool(cnn_1_concat) # 16 * 16 * 48\n",
    "\n",
    "cnn_2_5 = build_cnn(18, [5,5], cnn_1_pool)\n",
    "cnn_2_3 = build_cnn(48, [3,3], cnn_1_pool)\n",
    "cnn_2_1 = build_cnn(30, [1,1], cnn_1_pool)\n",
    "cnn_2_concat = tf.concat(3, [cnn_2_5, cnn_2_3, cnn_2_1])\n",
    "cnn_2_pool = max2d_pool(cnn_2_concat) # 8 * 8 * 96\n",
    "\n",
    "cnn_3_5_reduce = build_cnn(18, [1,1], cnn_2_pool)\n",
    "cnn_3_5 = build_cnn(36, [5,5], cnn_3_5_reduce)\n",
    "cnn_3_3_reduce = build_cnn(64, [1,1], cnn_2_pool)\n",
    "cnn_3_3 = build_cnn(96, [3,3], cnn_3_3_reduce)\n",
    "cnn_3_1 = build_cnn(60, [1,1], cnn_2_pool)\n",
    "cnn_3_concat = tf.concat(3, [cnn_3_5, cnn_3_3, cnn_3_1])\n",
    "cnn_3_pool = max2d_pool(cnn_3_concat) # 4 * 4 * 192\n",
    "\n",
    "dense_1 = tf.nn.relu(build_nn(1024, flatten_cnn(cnn_3_pool)))\n",
    "dropout_1 = tf.nn.dropout(dense_1, keep_prob)\n",
    "\n",
    "logit = build_nn(label_ko.shape[1], dropout_1)\n",
    "logit_cho = tf.slice(logit, [0, 0], [-1, len(ko_chset_cho)])\n",
    "logit_jung = tf.slice(logit, [0, len(ko_chset_cho)], [-1, len(ko_chset_jung)])\n",
    "logit_jong = tf.slice(logit, [0, len(ko_chset_cho)+len(ko_chset_jung)], [-1, len(ko_chset_jong)])\n",
    "h_cho = tf.nn.softmax(logit_cho)\n",
    "h_jung = tf.nn.softmax(logit_jung)\n",
    "h_jong = tf.nn.softmax(logit_jong)\n",
    "\n",
    "learning_rate = tf.placeholder(tf.float32)\n",
    "cost_cho = tf.nn.softmax_cross_entropy_with_logits(logit_cho, Y_cho)\n",
    "cost_jung = tf.nn.softmax_cross_entropy_with_logits(logit_jung, Y_jung)\n",
    "cost_jong = tf.nn.softmax_cross_entropy_with_logits(logit_jong, Y_jong)\n",
    "cost = cost_cho + cost_jung * 1.5 + cost_jong * 0.5\n",
    "cost_mean = tf.reduce_mean(cost) # mean of batch set\n",
    "\n",
    "train = tf.train.AdamOptimizer(learning_rate).minimize(cost)\n",
    "\n",
    "correct_cho = tf.equal(tf.argmax(Y_cho,1), tf.argmax(h_cho,1))\n",
    "correct_jung = tf.equal(tf.argmax(Y_jung,1), tf.argmax(h_jung,1))\n",
    "correct_jong = tf.equal(tf.argmax(Y_jong,1), tf.argmax(h_jong,1))\n",
    "correct_two = tf.logical_or(tf.logical_and(correct_cho, tf.logical_or(correct_jung, correct_jong)),\n",
    "                           tf.logical_and(correct_jung, correct_jong))\n",
    "correct_all = tf.logical_and(tf.logical_and(correct_cho, correct_jung), correct_jong)\n",
    "accuracy = tf.reduce_mean(tf.cast(correct_all, tf.float32))\n",
    "accuracy_two = tf.reduce_mean(tf.cast(correct_two, tf.float32))\n",
    "accuracy_cho = tf.reduce_mean(tf.cast(correct_cho, tf.float32))\n",
    "accuracy_jung = tf.reduce_mean(tf.cast(correct_jung, tf.float32))\n",
    "accuracy_jong = tf.reduce_mean(tf.cast(correct_jong, tf.float32))\n",
    "\n",
    "sess = tf.Session()\n",
    "print(\"session loaded\")"
   ]
  },
  {
   "cell_type": "code",
   "execution_count": 143,
   "metadata": {
    "collapsed": false
   },
   "outputs": [],
   "source": [
    "def init_session():\n",
    "    sess.run(tf.initialize_all_variables())\n",
    "    print(\"session initialized\")\n",
    "    \n",
    "def train_accuracy():\n",
    "    trainsize = trainimg.shape[0]\n",
    "    batchsize = 100\n",
    "    batch_per_epoch = int(trainsize/batchsize)\n",
    "    train_accuracy = 0\n",
    "    for i in range(batch_per_epoch):\n",
    "        batch_x = get_batch(i, batchsize, trainimg)\n",
    "        batch_y = get_batch(i, batchsize, trainlabel)\n",
    "        train_accuracy += sess.run(accuracy, feed_dict={X:batch_x, Y:batch_y, keep_prob:1})\n",
    "    return train_accuracy / batch_per_epoch\n",
    "    \n",
    "def print_accuracy():\n",
    "    taccuracy, taccuracy_cho, taccuracy_jung, taccuracy_jong, taccuracy_two = \\\n",
    "            sess.run((accuracy, accuracy_cho, accuracy_jung, accuracy_jong, accuracy_two), feed_dict={X:testimg, Y:testlabel, keep_prob:1})\n",
    "    print (\"test accuracy = %.3f\" % taccuracy)\n",
    "    print (\"two of three = %.3f\" % taccuracy_two)\n",
    "    print (\"cho = %.3f\" % taccuracy_cho)\n",
    "    print (\"jung = %.3f\" % taccuracy_jung)\n",
    "    print (\"jong = %.3f\" % taccuracy_jong)\n",
    "    print (\"train accuracy = %.3f\" % train_accuracy())\n",
    "\n",
    "def do_training(is_console=False, lr_init = 0.003):\n",
    "    trainsize = trainimg.shape[0]\n",
    "    batchsize = 100\n",
    "    batch_per_epoch = int(trainsize/batchsize)\n",
    "    print (\"Training %d, mini-batch %d * %d\" % (trainsize, batchsize, batch_per_epoch))\n",
    "\n",
    "    lr = lr_init\n",
    "    for i in range(batch_per_epoch*5):\n",
    "        if i % 200 == 0 :\n",
    "            taccuracy, taccuracy_cho, taccuracy_jung, taccuracy_jong, taccuracy_two = \\\n",
    "            sess.run((accuracy, accuracy_cho, accuracy_jung, accuracy_jong, accuracy_two), feed_dict={X:testimg, Y:testlabel, keep_prob:1})\n",
    "            print (\"%6dth epoch : test accuracy = %.3f                  \" % \\\n",
    "                   (i / batch_per_epoch, taccuracy))\n",
    "            \n",
    "        if i % batch_per_epoch == 0 :\n",
    "            print (\"                 two of three = %.3f\" % taccuracy_two)\n",
    "            print (\"                 cho = %.3f\" % taccuracy_cho)\n",
    "            print (\"                 jung = %.3f\" % taccuracy_jung)\n",
    "            print (\"                 jong = %.3f\" % taccuracy_jong)\n",
    "\n",
    "        batch_x = get_batch(i, batchsize, trainimg)\n",
    "        batch_y = get_batch(i, batchsize, trainlabel)\n",
    "        cur_cost = sess.run((train, cost_mean), feed_dict={X:batch_x, Y:batch_y, keep_prob:0.5, learning_rate:lr})[1]\n",
    "        if(is_console):\n",
    "            print (\"%dth... lr = %.2e, cost = %.2e\\r\" % (i, lr, cur_cost), end=\"\")\n",
    "        lr = lr * (1 - 0.0003)\n",
    "    print(\"train complete--------------------------------\")\n",
    "    print_accuracy()\n",
    "    \n",
    "def error_check(pred_label_tuple):\n",
    "    h, y = pred_label_tuple\n",
    "    n_error = np.zeros([y.shape[0], y.shape[0]])\n",
    "    n_all = np.zeros(y.shape[0])\n",
    "\n",
    "    for i in range(y.shape[0]):\n",
    "        n_all[np.argmax(y[i])] += 1\n",
    "        if (np.argmax(h[i]) != np.argmax(y[i])):\n",
    "            n_error[np.argmax(y[i])][np.argmax(h[i])] += 1\n",
    "\n",
    "\n",
    "    print (\"Error rate\")\n",
    "    for i, ch in enumerate(ko_chset_jung):\n",
    "        most_error = np.argmax(n_error[i])\n",
    "        print (\"%s : %2.0f%% (%4d / %4d)\" %\n",
    "               (ch, float(np.sum(n_error[i])) / n_all[i] * 100, np.sum(n_error[i]), n_all[i]), end=\"\")\n",
    "        if n_error[i][most_error] > 0:\n",
    "            print (\"%6d errors with %s\" % (n_error[i][most_error], ko_chset_jung[most_error]))\n",
    "        else:\n",
    "            print (\"\")"
   ]
  },
  {
   "cell_type": "code",
   "execution_count": 146,
   "metadata": {
    "collapsed": false
   },
   "outputs": [
    {
     "name": "stdout",
     "output_type": "stream",
     "text": [
      "test accuracy = 0.997\n",
      "two of three = 1.000\n",
      "cho = 1.000\n",
      "jung = 0.998\n",
      "jong = 0.999\n",
      "train accuracy = 0.999\n"
     ]
    }
   ],
   "source": [
    "print_accuracy()"
   ]
  },
  {
   "cell_type": "code",
   "execution_count": 145,
   "metadata": {
    "collapsed": false,
    "scrolled": true
   },
   "outputs": [
    {
     "name": "stdout",
     "output_type": "stream",
     "text": [
      "Error rate\n",
      "ㅏ :  0% (   0 /  490)\n",
      "ㅐ :  0% (   0 /  376)\n",
      "ㅑ :  0% (   0 /  152)\n",
      "ㅒ :  0% (   0 /   38)\n",
      "ㅓ :  0% (   1 /  421)     1 errors with ㅕ\n",
      "ㅔ :  0% (   0 /  290)\n",
      "ㅕ :  0% (   0 /  271)\n",
      "ㅖ :  1% (   1 /   75)     1 errors with ㅔ\n",
      "ㅗ :  0% (   1 /  400)     1 errors with ㅡ\n",
      "ㅘ :  0% (   0 /  171)\n",
      "ㅙ :  0% (   0 /   95)\n",
      "ㅚ :  0% (   0 /  215)\n",
      "ㅛ :  1% (   1 /  137)     1 errors with ㅡ\n",
      "ㅜ :  0% (   0 /  379)\n",
      "ㅝ :  0% (   0 /  126)\n",
      "ㅞ :  0% (   0 /   89)\n",
      "ㅟ :  0% (   0 /  214)\n",
      "ㅠ :  0% (   0 /  190)\n",
      "ㅡ :  1% (   2 /  398)     2 errors with ㅜ\n",
      "ㅢ :  0% (   0 /   79)\n",
      "ㅣ :  1% (   4 /  394)     4 errors with ㅏ\n"
     ]
    }
   ],
   "source": [
    "error_check(sess.run((h_jung, Y_jung), feed_dict={X:testimg, Y:testlabel, keep_prob:1}))"
   ]
  },
  {
   "cell_type": "code",
   "execution_count": null,
   "metadata": {
    "collapsed": true
   },
   "outputs": [],
   "source": []
  },
  {
   "cell_type": "code",
   "execution_count": null,
   "metadata": {
    "collapsed": true
   },
   "outputs": [],
   "source": []
  }
 ],
 "metadata": {
  "kernelspec": {
   "display_name": "Python 3",
   "language": "python",
   "name": "python3"
  },
  "language_info": {
   "codemirror_mode": {
    "name": "ipython",
    "version": 3
   },
   "file_extension": ".py",
   "mimetype": "text/x-python",
   "name": "python",
   "nbconvert_exporter": "python",
   "pygments_lexer": "ipython3",
   "version": "3.5.2"
  }
 },
 "nbformat": 4,
 "nbformat_minor": 1
}
