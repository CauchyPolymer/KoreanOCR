{
 "cells": [
  {
   "cell_type": "code",
   "execution_count": null,
   "metadata": {
    "collapsed": true
   },
   "outputs": [],
   "source": [
    "import data\n",
    "import time\n",
    "import numpy as np\n",
    "import tarfile\n",
    "import io\n",
    "import json\n",
    "from scipy.ndimage import imread\n",
    "from concurrent.futures import ThreadPoolExecutor"
   ]
  },
  {
   "cell_type": "code",
   "execution_count": null,
   "metadata": {
    "collapsed": true
   },
   "outputs": [],
   "source": [
    "class BatchBuffer:\n",
    "    def __init__(self, offset, size):\n",
    "        self.offset = offset\n",
    "        self.size = size\n",
    "        self.index = 0\n",
    "    \n",
    "    def read(self, num=None):\n",
    "        raise NotImplementedError('Unimplemented')\n",
    "        \n",
    "    def seek(self, num, mode=0):\n",
    "        if mode == 0:\n",
    "            self.index = num\n",
    "        elif mode == 1:\n",
    "            self.index += num\n",
    "        elif mode == 2:\n",
    "            self.index = self.size+num\n",
    "        else:\n",
    "            raise NotImplementedError('Unimplemented')\n",
    "        \n",
    "    def tell(self):\n",
    "        return self.index\n",
    "\n",
    "class ArrayBuffer(BatchBuffer):\n",
    "    def __init__(self, array, offset, size):\n",
    "        if size < 0:\n",
    "            size = len(array) - offset\n",
    "        super().__init__(offset, size)\n",
    "        self.array = array\n",
    "    \n",
    "    def read(self, num=None):\n",
    "        if self.index >= self.size:\n",
    "            return None\n",
    "        \n",
    "        if num is None:\n",
    "            num = self.size - self.index\n",
    "            \n",
    "        ni = self.index+num\n",
    "        if ni >= self.size:\n",
    "            ni = self.size\n",
    "        ret = self.array[self.offset+self.index:self.offset+ni]\n",
    "        self.index += num\n",
    "        return ret\n",
    "    \n",
    "class TarBuffer(BatchBuffer):\n",
    "    def __init__(self, tar, offset, size):\n",
    "        self.tar = tar\n",
    "        self.members = tar.getmembers()[offset:-1]\n",
    "        if size < 0:\n",
    "            size = len(self.members)\n",
    "        else:\n",
    "            self.members = self.members[:size]\n",
    "        super().__init__(offset, size)\n",
    "        \n",
    "        self.i = 0\n",
    "    \n",
    "    def read(self, num=None):\n",
    "        if self.index >= self.size:\n",
    "            return None\n",
    "        \n",
    "        if num is None:\n",
    "            num = self.size - self.index\n",
    "            \n",
    "        ni = self.index+num\n",
    "        if ni >= self.size:\n",
    "            ni = self.size\n",
    "            \n",
    "        start_time = time.time()\n",
    "            \n",
    "        images = [1 - (imread(self.tar.extractfile(self.members[i]))/255) for i in range(num)]\n",
    "        ret = np.array(images)\n",
    "        self.index += num\n",
    "        \n",
    "        self.i += 1\n",
    "        print (\"%3dth, %ss\" % (self.i, time.time()-start_time))\n",
    "        \n",
    "        return ret\n",
    "    \n",
    "def _load_batch(imgbuf, labelbuf, batchsize):\n",
    "    return (imgbuf.read(batchsize), labelbuf.read(batchsize))\n",
    "\n",
    "def load_batch(executor, imgbuf, labelbuf, batchsize):\n",
    "    return executor.submit(_load_batch, imgbuf, labelbuf, batchsize)\n",
    "        \n",
    "def run_epoch(imgbuf, labelbuf, batchsize=100):\n",
    "    imgbuf.seek(0)\n",
    "    labelbuf.seek(0)\n",
    "    epoch = 0\n",
    "    with ThreadPoolExecutor(max_workers=1) as executor:\n",
    "        batch_f = load_batch(executor, imgbuf, labelbuf, batchsize)\n",
    "        while (epoch < 4):\n",
    "            batch_x, batch_y = batch_f.result()\n",
    "            if batch_x is None:\n",
    "                assert batch_y is None\n",
    "                imgbuf.seek(0)\n",
    "                labelbuf.seek(0)\n",
    "                epoch += 1\n",
    "                print(\"%dth epoch\" % epoch)\n",
    "                continue\n",
    "                \n",
    "            batch_f = load_batch(executor, imgbuf, labelbuf, batchsize)\n",
    "\n",
    "def get_all_in_one():\n",
    "    index_data, img, label = data.get_all('data/161020.tgz')\n",
    "    trainimg = ArrayBuffer(img, 15000, -1)\n",
    "    trainlabel = ArrayBuffer(label, 15000, -1)\n",
    "    run_epoch(trainimg, trainlabel)\n",
    "\n",
    "def get_stride():\n",
    "    data_path = 'data/161020.tgz'\n",
    "    tar = tarfile.open(data_path, \"r:*\")\n",
    "    label = data.get_label_from_tar(tar)\n",
    "    trainlabel = ArrayBuffer(label, 15000, -1)\n",
    "    trainimg = TarBuffer(tar, 15000, -1)\n",
    "    assert trainlabel.size == trainimg.size, \"%d == %d\" % (trainlabel.size, trainimg.size)\n",
    "    print(\"buffer loaded\")\n",
    "    run_epoch(trainimg, trainlabel)"
   ]
  },
  {
   "cell_type": "code",
   "execution_count": null,
   "metadata": {
    "collapsed": false
   },
   "outputs": [],
   "source": [
    "start_time = time.time()\n",
    "get_all_in_one()\n",
    "print(\"--- %s seconds ---\" % (time.time() - start_time))"
   ]
  },
  {
   "cell_type": "code",
   "execution_count": null,
   "metadata": {
    "collapsed": false
   },
   "outputs": [],
   "source": [
    "start_time = time.time()\n",
    "get_stride()\n",
    "print(\"--- %s seconds ---\" % (time.time() - start_time))"
   ]
  },
  {
   "cell_type": "code",
   "execution_count": null,
   "metadata": {
    "collapsed": true
   },
   "outputs": [],
   "source": []
  }
 ],
 "metadata": {
  "kernelspec": {
   "display_name": "Python 3",
   "language": "python",
   "name": "python3"
  },
  "language_info": {
   "codemirror_mode": {
    "name": "ipython",
    "version": 3
   },
   "file_extension": ".py",
   "mimetype": "text/x-python",
   "name": "python",
   "nbconvert_exporter": "python",
   "pygments_lexer": "ipython3",
   "version": "3.4.3"
  }
 },
 "nbformat": 4,
 "nbformat_minor": 1
}
