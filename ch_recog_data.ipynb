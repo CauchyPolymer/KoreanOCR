{
 "cells": [
  {
   "cell_type": "code",
   "execution_count": null,
   "metadata": {
    "collapsed": false
   },
   "outputs": [],
   "source": [
    "from data import en_chset\n",
    "from data.gen import fonts, weights, get_mat, slice_img, save_chset_random\n",
    "import itertools\n",
    "import matplotlib.pyplot as plt\n",
    "import random\n",
    "import math\n",
    "%matplotlib inline\n",
    "\n",
    "f = open(\"data/k1001.txt\")\n",
    "ko_chset = f.read().splitlines()\n",
    "\n",
    "all_chset = ko_chset + en_chset\n",
    "\n",
    "def get_random_ch(chset=all_chset):\n",
    "    return chset[random.randrange(0,len(chset))]\n",
    "\n",
    "# Helper function to draw 3 X 3 plots\n",
    "def draw_subplot(array, w, h):\n",
    "    plt.figure(num=None, figsize=(3, 3), facecolor='w', edgecolor='k')\n",
    "    for i in range(len(array)):\n",
    "        plt.subplot(w,h,i+1)\n",
    "        plt.xticks(())\n",
    "        plt.yticks(())\n",
    "        plt.imshow(array[i], interpolation=\"none\", cmap=plt.get_cmap(\"gray\"))\n",
    "\n",
    "def show_example_all(ch, fonts, weights):\n",
    "    sliced = []\n",
    "    for font in fonts:\n",
    "        print(font)\n",
    "    for font, weight in itertools.product(fonts, weights):\n",
    "        sliced.append(slice_img(get_mat(ch, font, weight)))\n",
    "    draw_subplot(sliced, math.ceil(len(sliced)/2), 2)"
   ]
  },
  {
   "cell_type": "code",
   "execution_count": null,
   "metadata": {
    "collapsed": false
   },
   "outputs": [],
   "source": [
    "def show_example(ch):\n",
    "    sliced = [slice_img(get_mat(ch)) for i in range(7)]\n",
    "    draw_subplot(sliced, 1, 7)\n",
    "    \n",
    "def show_example_random():\n",
    "    sliced = [slice_img(get_mat(get_random_ch())) for i in range(7)]\n",
    "    draw_subplot(sliced, 1, 7)\n",
    "    \n",
    "for ch in \".\", \";\", \"2\", \")\", \"가\", \"낢\", \"·\", \"《\", \"》\", \"「\", \"」\", \"『\", \"』\" :\n",
    "    show_example(ch)\n",
    "    \n",
    "for i in range(3):\n",
    "    show_example_random()"
   ]
  },
  {
   "cell_type": "code",
   "execution_count": null,
   "metadata": {
    "collapsed": false
   },
   "outputs": [],
   "source": [
    "show_example_all(\".\", fonts, weights)"
   ]
  },
  {
   "cell_type": "code",
   "execution_count": null,
   "metadata": {
    "collapsed": false
   },
   "outputs": [],
   "source": [
    "save_chset_random((en_chset, ko_chset), (1, 3), \"data/161028.tgz\", 300000)"
   ]
  },
  {
   "cell_type": "code",
   "execution_count": null,
   "metadata": {
    "collapsed": true
   },
   "outputs": [],
   "source": []
  }
 ],
 "metadata": {
  "kernelspec": {
   "display_name": "Python 3",
   "language": "python",
   "name": "python3"
  },
  "language_info": {
   "codemirror_mode": {
    "name": "ipython",
    "version": 3
   },
   "file_extension": ".py",
   "mimetype": "text/x-python",
   "name": "python",
   "nbconvert_exporter": "python",
   "pygments_lexer": "ipython3",
   "version": "3.5.2"
  }
 },
 "nbformat": 4,
 "nbformat_minor": 0
}
