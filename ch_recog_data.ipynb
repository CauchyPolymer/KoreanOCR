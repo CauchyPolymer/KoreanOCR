{
 "cells": [
  {
   "cell_type": "code",
   "execution_count": 1,
   "metadata": {
    "collapsed": false
   },
   "outputs": [
    {
     "name": "stdout",
     "output_type": "stream",
     "text": [
      "loaded 2350 characters\n"
     ]
    }
   ],
   "source": [
    "\n",
    "import random\n",
    "import math\n",
    "import io\n",
    "import cairocffi as cairo\n",
    "from scipy.ndimage import imread\n",
    "from matplotlib.image import imsave\n",
    "from scipy.misc import imresize\n",
    "import matplotlib.pyplot as plt\n",
    "import numpy as np\n",
    "import tarfile\n",
    "import gzip\n",
    "\n",
    "from PIL import Image\n",
    "%matplotlib inline\n",
    "\n",
    "f = open(\"data/k1001.txt\")\n",
    "ko_chset = f.read().splitlines()\n",
    "print(\"loaded %d characters\" % len(ko_chset))\n",
    "\n",
    "en_chset = []\n",
    "en_chset.extend([\"0\", \"1\", \"2\", \"3\", \"4\", \"5\", \"6\", \"7\", \"8\", \"9\"])\n",
    "en_chset.extend([\"a\", \"b\", \"c\", \"d\", \"e\", \"f\", \"g\", \"h\", \"i\", \"j\", \"k\", \"l\", \"m\", \"n\",\\\n",
    "              \"o\", \"p\", \"q\", \"r\", \"s\", \"t\", \"u\", \"v\", \"w\", \"x\", \"y\", \"z\"])\n",
    "en_chset.extend([\"A\", \"B\", \"C\", \"D\", \"E\", \"F\", \"G\", \"H\", \"I\", \"J\", \"K\", \"L\", \"M\", \"N\",\\\n",
    "              \"O\", \"P\", \"Q\", \"R\", \"S\", \"T\", \"U\", \"V\", \"W\", \"X\", \"Y\", \"Z\"])\n",
    "en_chset.extend([\"(\", \")\", \"'\", \"\\\"\", \".\", \",\", \":\", \";\", \"!\", \"?\", \"/\", \"@\", \"#\", \"$\",\\\n",
    "              \"%\", \"^\", \"&\", \"*\", \"[\", \"]\", \"{\", \"}\", \"<\", \">\", \"~\", \"-\"])\n",
    "\n",
    "all_chset = ko_chset + en_chset\n",
    "\n",
    "def get_random_ch(chset=all_chset):\n",
    "    return chset[random.randrange(0,len(chset))]"
   ]
  },
  {
   "cell_type": "code",
   "execution_count": 2,
   "metadata": {
    "collapsed": false
   },
   "outputs": [
    {
     "name": "stdout",
     "output_type": "stream",
     "text": [
      "function loaded\n"
     ]
    }
   ],
   "source": [
    "WIDTH, HEIGHT = 120, 120\n",
    "surface = cairo.ImageSurface (cairo.FORMAT_RGB24, WIDTH, HEIGHT)\n",
    "ctx = cairo.Context (surface)\n",
    "ctx.set_font_size(40)\n",
    "\n",
    "def get_text_width(text):\n",
    "    extent = ctx.text_extents(text)\n",
    "    xbearing, ybearing, width, height, xadvance, yadvance = extent\n",
    "    return width\n",
    "\n",
    "def rgb2gray(rgb):\n",
    "    if len(rgb.shape) is 3:\n",
    "        return np.dot(rgb[...,:3], [0.299, 0.587, 0.114])\n",
    "    else:\n",
    "        print (\"Not RGB!\")\n",
    "        return rgb\n",
    "    \n",
    "def write_ch(x, y, ch):\n",
    "    ctx.move_to(x, y)\n",
    "    ctx.show_text(ch)\n",
    "\n",
    "# Generate 3 X 3 matrix\n",
    "def generate_mat(target, font, weight=\"NORMAL\"):\n",
    "    if weight == \"BOLD\":\n",
    "        weight = cairo.FONT_WEIGHT_BOLD\n",
    "    else:\n",
    "        weight = cairo.FONT_WEIGHT_NORMAL\n",
    "        \n",
    "    left_blank = random.choice([True, False])\n",
    "    right_blank = random.choice([True, False])\n",
    "    \n",
    "    ctx.set_source_rgb(1, 1, 1)\n",
    "    ctx.paint()\n",
    "    ctx.set_source_rgb(0, 0, 0)\n",
    "    ctx.select_font_face(font, cairo.FONT_SLANT_NORMAL,\n",
    "            weight)\n",
    "    \n",
    "    write_ch(0, 34, get_random_ch())\n",
    "    write_ch(40, 34, get_random_ch())\n",
    "    write_ch(80, 34, get_random_ch())\n",
    "    \n",
    "    offset = (38 - get_text_width(target))/2\n",
    "    \n",
    "    if offset > 12:\n",
    "        offset = 12\n",
    "        \n",
    "    if left_blank:\n",
    "        ctx.move_to(-10 + offset, 74)\n",
    "    else:\n",
    "        ctx.move_to(2 + offset, 74)\n",
    "    ctx.show_text(get_random_ch())\n",
    "    ctx.move_to(40 + offset, 74)\n",
    "    ctx.show_text(target)\n",
    "    if right_blank:\n",
    "        ctx.move_to(90 - offset, 74)\n",
    "    else:\n",
    "        ctx.move_to(78 - offset, 74)\n",
    "    ctx.show_text(get_random_ch())\n",
    "    \n",
    "    write_ch(0, 114, get_random_ch())\n",
    "    write_ch(40, 114, get_random_ch())\n",
    "    write_ch(80, 114, get_random_ch())\n",
    "\n",
    "    fb = io.BytesIO()\n",
    "    surface.write_to_png (fb)\n",
    "    mat = imread(fb)\n",
    "    fb.close()\n",
    "    return rgb2gray(mat)\n",
    "\n",
    "# Slice a target character from 3 X 3 matrix\n",
    "def slice_img(mat):\n",
    "    x_offset = random.randrange(-3, 3)\n",
    "    y_offset = random.randrange(-3, 3)\n",
    "    scale_factor = random.randrange(42, 48)\n",
    "    x_start = round(60 - scale_factor / 2) + x_offset\n",
    "    x_end = round(60 + scale_factor / 2) + x_offset\n",
    "    y_start = round(60 - scale_factor / 2) + y_offset\n",
    "    y_end = round(60 + scale_factor / 2) + y_offset\n",
    "    sliced = mat[y_start:y_end, x_start:x_end]\n",
    "    return imresize(sliced, [32, 32])\n",
    "\n",
    "# Helper function to draw 3 X 3 plots\n",
    "def draw_subplot(array, w, h):\n",
    "    plt.figure(num=None, figsize=(3, 3), facecolor='w', edgecolor='k')\n",
    "    for i in range(len(array)):\n",
    "        plt.subplot(w,h,i+1)\n",
    "        plt.xticks(())\n",
    "        plt.yticks(())\n",
    "        plt.imshow(array[i], interpolation=\"none\", cmap=plt.get_cmap(\"gray\"))\n",
    "\n",
    "print (\"function loaded\")"
   ]
  },
  {
   "cell_type": "code",
   "execution_count": 3,
   "metadata": {
    "collapsed": false
   },
   "outputs": [
    {
     "data": {
      "text/plain": [
       "<matplotlib.image.AxesImage at 0x7f3d87fbd320>"
      ]
     },
     "execution_count": 3,
     "metadata": {},
     "output_type": "execute_result"
    },
    {
     "data": {
      "image/png": "[encoded data removed]",
      "text/plain": [
       "<matplotlib.figure.Figure at 0x7f3dc4f707f0>"
      ]
     },
     "metadata": {},
     "output_type": "display_data"
    }
   ],
   "source": [
    "mat1 = generate_mat(get_random_ch(),\"NanumMyeongjo\", \"NORMAL\")\n",
    "\n",
    "plt.figure()\n",
    "plt.imshow(mat1, interpolation=\"none\", cmap=plt.get_cmap(\"gray\"))"
   ]
  },
  {
   "cell_type": "code",
   "execution_count": 4,
   "metadata": {
    "collapsed": false
   },
   "outputs": [
    {
     "data": {
      "image/png": "[encoded data removed]",
      "text/plain": [
       "<matplotlib.figure.Figure at 0x7f3d87fa42e8>"
      ]
     },
     "metadata": {},
     "output_type": "display_data"
    },
    {
     "data": {
      "image/png": "[encoded data removed]",
      "text/plain": [
       "<matplotlib.figure.Figure at 0x7f3d87e7db00>"
      ]
     },
     "metadata": {},
     "output_type": "display_data"
    },
    {
     "data": {
      "image/png": "[encoded data removed]",
      "text/plain": [
       "<matplotlib.figure.Figure at 0x7f3d87dd8be0>"
      ]
     },
     "metadata": {},
     "output_type": "display_data"
    },
    {
     "data": {
      "image/png": "[encoded data removed]",
      "text/plain": [
       "<matplotlib.figure.Figure at 0x7f3d87cb0908>"
      ]
     },
     "metadata": {},
     "output_type": "display_data"
    },
    {
     "data": {
      "image/png": "[encoded data removed]",
      "text/plain": [
       "<matplotlib.figure.Figure at 0x7f3d87c0eb70>"
      ]
     },
     "metadata": {},
     "output_type": "display_data"
    },
    {
     "data": {
      "image/png": "[encoded data removed]",
      "text/plain": [
       "<matplotlib.figure.Figure at 0x7f3d87af3b38>"
      ]
     },
     "metadata": {},
     "output_type": "display_data"
    },
    {
     "data": {
      "image/png": "[encoded data removed]",
      "text/plain": [
       "<matplotlib.figure.Figure at 0x7f3d87a40e10>"
      ]
     },
     "metadata": {},
     "output_type": "display_data"
    },
    {
     "data": {
      "image/png": "[encoded data removed]",
      "text/plain": [
       "<matplotlib.figure.Figure at 0x7f3d87508978>"
      ]
     },
     "metadata": {},
     "output_type": "display_data"
    }
   ],
   "source": [
    "sliced = [slice_img(generate_mat(\".\",\"NanumMyeongjo\", \"NORMAL\")) for i in range(3)]\n",
    "draw_subplot(sliced, 1, 3)\n",
    "\n",
    "sliced = [slice_img(generate_mat(\";\",\"NanumMyeongjo\", \"NORMAL\")) for i in range(3)]\n",
    "draw_subplot(sliced, 1, 3)\n",
    "\n",
    "sliced = [slice_img(generate_mat(\"2\",\"NanumMyeongjo\", \"NORMAL\")) for i in range(3)]\n",
    "draw_subplot(sliced, 1, 3)\n",
    "\n",
    "sliced = [slice_img(generate_mat(\")\",\"NanumMyeongjo\", \"NORMAL\")) for i in range(3)]\n",
    "draw_subplot(sliced, 1, 3)\n",
    "\n",
    "sliced = [slice_img(generate_mat(\"가\",\"NanumMyeongjo\", \"NORMAL\")) for i in range(3)]\n",
    "draw_subplot(sliced, 1, 3)\n",
    "\n",
    "sliced = [slice_img(generate_mat(\"낣\",\"NanumMyeongjo\", \"NORMAL\")) for i in range(3)]\n",
    "draw_subplot(sliced, 1, 3)\n",
    "\n",
    "sliced = [slice_img(generate_mat(\"A\",\"NanumMyeongjo\", \"BOLD\")) for i in range(3)]\n",
    "draw_subplot(sliced, 1, 3)\n",
    "\n",
    "sliced = [slice_img(generate_mat(\"o\",\"NanumMyeongjo\", \"BOLD\")) for i in range(3)]\n",
    "draw_subplot(sliced, 1, 3)"
   ]
  },
  {
   "cell_type": "code",
   "execution_count": 5,
   "metadata": {
    "collapsed": false
   },
   "outputs": [
    {
     "data": {
      "image/png": "[encoded data removed]",
      "text/plain": [
       "<matplotlib.figure.Figure at 0x7f3d87f7b3c8>"
      ]
     },
     "metadata": {},
     "output_type": "display_data"
    }
   ],
   "source": [
    "import itertools\n",
    "import json\n",
    "\n",
    "fonts = [\"NanumMyeongjo\", \"NanumGothic\", \"Gungsuh\", \"Batang\", \"Dotum\"]\n",
    "weights = [\"NORMAL\", \"BOLD\"]\n",
    "\n",
    "\n",
    "def show_example(ch, fonts, weights):\n",
    "    sliced = []\n",
    "    for font, weight in itertools.product(fonts, weights):\n",
    "        sliced.append(slice_img(generate_mat(ch, font, weight)))\n",
    "    draw_subplot(sliced, math.ceil(len(sliced)/3), 3)\n",
    "    \n",
    "show_example(\"떫\", fonts, weights)"
   ]
  },
  {
   "cell_type": "code",
   "execution_count": 16,
   "metadata": {
    "collapsed": false
   },
   "outputs": [],
   "source": [
    "def save_chset(chset, base_path, repeat):\n",
    "    print (\"saving into %s...\" % base_path)\n",
    "    index_data = []\n",
    "\n",
    "    tar = tarfile.open(base_path+\"data.tar.gz\", \"w:gz\")\n",
    "\n",
    "    for ch, font, weight in itertools.product(chset, fonts, weights):\n",
    "        # Gungsuh bold is corrupted\n",
    "        if font == \"Gungsuh\" and weight == \"BOLD\":\n",
    "            continue\n",
    "        for i in range(repeat):\n",
    "            if len(index_data) % 10000 == 0:\n",
    "                print (\"saving %7dth data...\\r\" % (len(index_data)+1))\n",
    "            pathname = \"%07d.png\" % len(index_data)\n",
    "            sliced = slice_img(generate_mat(ch, font, weight))\n",
    "            ft = io.BytesIO()\n",
    "            Image.fromarray(sliced, mode='L').save(ft, format=\"PNG\", optimize=True, compress_level=9)\n",
    "            index_data.append({'path': pathname, 'font': font, 'weight': weight, 'target': ch})\n",
    "            ti = tarfile.TarInfo(pathname)\n",
    "            ti.size = ft.getbuffer().nbytes\n",
    "            ft.seek(0)\n",
    "            tar.addfile(ti, ft)\n",
    "            ft.close()\n",
    "\n",
    "    tar.close()\n",
    "\n",
    "    with gzip.open(base_path+'index.json.gz', 'wt') as outfile:\n",
    "        print (\"saving index json...\")\n",
    "        json.dump(index_data, outfile, indent=4, sort_keys=True, separators=(',', ':'))\n",
    "        outfile.close()\n",
    "\n",
    "    print (\"done\")"
   ]
  },
  {
   "cell_type": "code",
   "execution_count": 19,
   "metadata": {
    "collapsed": false
   },
   "outputs": [
    {
     "name": "stdout",
     "output_type": "stream",
     "text": [
      "saving into data/en/...\n",
      "saving       1th data...\n",
      "saving   10001th data...\n",
      "saving   20001th data...\n",
      "saving   30001th data...\n",
      "saving   40001th data...\n",
      "saving   50001th data...\n",
      "saving   60001th data...\n",
      "saving   70001th data...\n",
      "saving index json...\n",
      "done\n"
     ]
    }
   ],
   "source": [
    "save_chset(en_chset, \"data/en/\", 100)"
   ]
  },
  {
   "cell_type": "code",
   "execution_count": 20,
   "metadata": {
    "collapsed": false
   },
   "outputs": [
    {
     "name": "stdout",
     "output_type": "stream",
     "text": [
      "saving into data/ko/...\n",
      "saving       1th data...\n",
      "saving   10001th data...\n",
      "saving   20001th data...\n",
      "saving   30001th data...\n",
      "saving   40001th data...\n",
      "saving   50001th data...\n",
      "saving   60001th data...\n",
      "saving   70001th data...\n",
      "saving   80001th data...\n",
      "saving   90001th data...\n",
      "saving  100001th data...\n",
      "saving  110001th data...\n",
      "saving  120001th data...\n",
      "saving  130001th data...\n",
      "saving  140001th data...\n",
      "saving  150001th data...\n",
      "saving  160001th data...\n",
      "saving  170001th data...\n",
      "saving  180001th data...\n",
      "saving  190001th data...\n",
      "saving  200001th data...\n",
      "saving  210001th data...\n",
      "saving index json...\n",
      "done\n"
     ]
    }
   ],
   "source": [
    "save_chset(ko_chset, \"data/ko/\", 10)"
   ]
  },
  {
   "cell_type": "code",
   "execution_count": null,
   "metadata": {
    "collapsed": true
   },
   "outputs": [],
   "source": []
  }
 ],
 "metadata": {
  "kernelspec": {
   "display_name": "Python 3",
   "language": "python",
   "name": "python3"
  },
  "language_info": {
   "codemirror_mode": {
    "name": "ipython",
    "version": 3
   },
   "file_extension": ".py",
   "mimetype": "text/x-python",
   "name": "python",
   "nbconvert_exporter": "python",
   "pygments_lexer": "ipython3",
   "version": "3.4.3"
  }
 },
 "nbformat": 4,
 "nbformat_minor": 0
}
