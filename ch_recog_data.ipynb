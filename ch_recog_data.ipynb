{
 "cells": [
  {
   "cell_type": "code",
   "execution_count": 1,
   "metadata": {
    "collapsed": false
   },
   "outputs": [
    {
     "name": "stdout",
     "output_type": "stream",
     "text": [
      "loaded 2350 characters\n"
     ]
    }
   ],
   "source": [
    "import random\n",
    "import math\n",
    "import io\n",
    "import cairocffi as cairo\n",
    "from scipy.ndimage import imread\n",
    "from matplotlib.image import imsave\n",
    "from scipy.misc import imresize\n",
    "import matplotlib.pyplot as plt\n",
    "import numpy as np\n",
    "import unicodedata\n",
    "import hangul\n",
    "%matplotlib inline\n",
    "\n",
    "f = open(\"data/k1001.txt\")\n",
    "ko_chset = f.read().splitlines()\n",
    "print(\"loaded %d characters\" % len(ko_chset))\n",
    "\n",
    "en_chset = []\n",
    "en_chset.extend([\"0\", \"1\", \"2\", \"3\", \"4\", \"5\", \"6\", \"7\", \"8\", \"9\"])\n",
    "en_chset.extend([\"a\", \"b\", \"c\", \"d\", \"e\", \"f\", \"g\", \"h\", \"i\", \"j\", \"k\", \"l\", \"m\", \"n\",\\\n",
    "              \"o\", \"p\", \"q\", \"r\", \"s\", \"t\", \"u\", \"v\", \"w\", \"x\", \"y\", \"z\"])\n",
    "en_chset.extend([\"A\", \"B\", \"C\", \"D\", \"E\", \"F\", \"G\", \"H\", \"I\", \"J\", \"K\", \"L\", \"M\", \"N\",\\\n",
    "              \"O\", \"P\", \"Q\", \"R\", \"S\", \"T\", \"U\", \"V\", \"W\", \"X\", \"Y\", \"Z\"])\n",
    "en_chset.extend([\"(\", \")\", \"'\", \"\\\"\", \".\", \",\", \":\", \";\", \"!\", \"?\", \"/\", \"@\", \"#\", \"$\",\\\n",
    "              \"%\", \"^\", \"&\", \"*\", \"[\", \"]\", \"{\", \"}\", \"<\", \">\", \"~\", \"-\"])\n",
    "\n",
    "all_chset = ko_chset + en_chset\n",
    "\n",
    "def get_random_ch(chset=all_chset):\n",
    "    return chset[random.randrange(0,len(chset))]"
   ]
  },
  {
   "cell_type": "code",
   "execution_count": 2,
   "metadata": {
    "collapsed": false
   },
   "outputs": [
    {
     "name": "stdout",
     "output_type": "stream",
     "text": [
      "function loaded\n"
     ]
    }
   ],
   "source": [
    "WIDTH, HEIGHT = 120, 120\n",
    "surface = cairo.ImageSurface (cairo.FORMAT_RGB24, WIDTH, HEIGHT)\n",
    "ctx = cairo.Context (surface)\n",
    "ctx.set_font_size(40)\n",
    "\n",
    "def get_text_width(text):\n",
    "    extent = ctx.text_extents(text)\n",
    "    xbearing, ybearing, width, height, xadvance, yadvance = extent\n",
    "    return width\n",
    "\n",
    "# Generate 3 X 3 matrix\n",
    "def generate_mat(target, font, weight=\"NORMAL\"):\n",
    "    if weight == \"BOLD\":\n",
    "        weight = cairo.FONT_WEIGHT_BOLD\n",
    "    else:\n",
    "        weight = cairo.FONT_WEIGHT_NORMAL\n",
    "        \n",
    "    left_blank = random.choice([True, False])\n",
    "    right_blank = random.choice([True, False])\n",
    "    \n",
    "    ctx.set_source_rgb(1, 1, 1)\n",
    "    ctx.paint()\n",
    "    ctx.set_source_rgb(0, 0, 0)\n",
    "    ctx.select_font_face(font, cairo.FONT_SLANT_NORMAL,\n",
    "            weight)\n",
    "    ctx.move_to(0, 34)\n",
    "    ctx.show_text(get_random_ch())\n",
    "    ctx.move_to(40, 34)\n",
    "    ctx.show_text(get_random_ch())\n",
    "    ctx.move_to(80, 34)\n",
    "    ctx.show_text(get_random_ch())\n",
    "    \n",
    "    offset = (38 - get_text_width(target))/2\n",
    "    \n",
    "    if offset > 12:\n",
    "        offset = 12\n",
    "        \n",
    "    if left_blank:\n",
    "        ctx.move_to(-10 + offset, 74)\n",
    "    else:\n",
    "        ctx.move_to(2 + offset, 74)\n",
    "    ctx.show_text(get_random_ch())\n",
    "    ctx.move_to(40 + offset, 74)\n",
    "    ctx.show_text(target)\n",
    "    if right_blank:\n",
    "        ctx.move_to(90 - offset, 74)\n",
    "    else:\n",
    "        ctx.move_to(78 - offset, 74)\n",
    "    ctx.show_text(get_random_ch())\n",
    "    \n",
    "    \n",
    "    ctx.move_to(0, 114)\n",
    "    ctx.show_text(get_random_ch())\n",
    "    ctx.move_to(40, 114)\n",
    "    ctx.show_text(get_random_ch())\n",
    "    ctx.move_to(80, 114)\n",
    "    ctx.show_text(get_random_ch())\n",
    "\n",
    "    f = io.BytesIO()\n",
    "    surface.write_to_png (f)\n",
    "    mat = imread(f)\n",
    "    return mat\n",
    "\n",
    "# Slice a target character from 3 X 3 matrix\n",
    "def slice_img(mat):\n",
    "    x_offset = random.randrange(-3, 3)\n",
    "    y_offset = random.randrange(-3, 3)\n",
    "    scale_factor = random.randrange(42, 48)\n",
    "    x_start = round(60 - scale_factor / 2) + x_offset\n",
    "    x_end = round(60 + scale_factor / 2) + x_offset\n",
    "    y_start = round(60 - scale_factor / 2) + y_offset\n",
    "    y_end = round(60 + scale_factor / 2) + y_offset\n",
    "    sliced = mat[y_start:y_end, x_start:x_end]\n",
    "    return imresize(sliced, [32, 32, 3])\n",
    "\n",
    "# Helper function to draw 3 X 3 plots\n",
    "def draw_subplot(array, w, h):\n",
    "    plt.figure(num=None, figsize=(3, 3), facecolor='w', edgecolor='k')\n",
    "    for i in range(len(array)):\n",
    "        plt.subplot(w,h,i+1)\n",
    "        plt.xticks(())\n",
    "        plt.yticks(())\n",
    "        plt.imshow(array[i], interpolation='none')\n",
    "\n",
    "print (\"function loaded\")"
   ]
  },
  {
   "cell_type": "code",
   "execution_count": 3,
   "metadata": {
    "collapsed": false
   },
   "outputs": [
    {
     "data": {
      "text/plain": [
       "<matplotlib.image.AxesImage at 0x7fdbdfa031d0>"
      ]
     },
     "execution_count": 3,
     "metadata": {},
     "output_type": "execute_result"
    },
    {
     "data": {
      "image/png": "[encoded data removed]",
      "text/plain": [
       "<matplotlib.figure.Figure at 0x7fdc1c9986a0>"
      ]
     },
     "metadata": {},
     "output_type": "display_data"
    }
   ],
   "source": [
    "mat1 = generate_mat(get_random_ch(),\"NanumMyeongjo\", \"NORMAL\")\n",
    "\n",
    "plt.figure()\n",
    "plt.imshow(mat1, interpolation='none')"
   ]
  },
  {
   "cell_type": "code",
   "execution_count": 4,
   "metadata": {
    "collapsed": false
   },
   "outputs": [
    {
     "data": {
      "image/png": "[encoded data removed]",
      "text/plain": [
       "<matplotlib.figure.Figure at 0x7fdbdf984278>"
      ]
     },
     "metadata": {},
     "output_type": "display_data"
    },
    {
     "data": {
      "image/png": "[encoded data removed]",
      "text/plain": [
       "<matplotlib.figure.Figure at 0x7fdbdf8c5be0>"
      ]
     },
     "metadata": {},
     "output_type": "display_data"
    },
    {
     "data": {
      "image/png": "[encoded data removed]",
      "text/plain": [
       "<matplotlib.figure.Figure at 0x7fdbdf81fda0>"
      ]
     },
     "metadata": {},
     "output_type": "display_data"
    },
    {
     "data": {
      "image/png": "[encoded data removed]",
      "text/plain": [
       "<matplotlib.figure.Figure at 0x7fdbdf6f89e8>"
      ]
     },
     "metadata": {},
     "output_type": "display_data"
    },
    {
     "data": {
      "image/png": "[encoded data removed]",
      "text/plain": [
       "<matplotlib.figure.Figure at 0x7fdbdf656c50>"
      ]
     },
     "metadata": {},
     "output_type": "display_data"
    },
    {
     "data": {
      "image/png": "[encoded data removed]",
      "text/plain": [
       "<matplotlib.figure.Figure at 0x7fdbdf53ad30>"
      ]
     },
     "metadata": {},
     "output_type": "display_data"
    },
    {
     "data": {
      "image/png": "[encoded data removed]",
      "text/plain": [
       "<matplotlib.figure.Figure at 0x7fdbdf488cf8>"
      ]
     },
     "metadata": {},
     "output_type": "display_data"
    },
    {
     "data": {
      "image/png": "[encoded data removed]",
      "text/plain": [
       "<matplotlib.figure.Figure at 0x7fdbdef4aa20>"
      ]
     },
     "metadata": {},
     "output_type": "display_data"
    }
   ],
   "source": [
    "sliced = [slice_img(generate_mat(\".\",\"NanumMyeongjo\", \"NORMAL\")) for i in range(3)]\n",
    "draw_subplot(sliced, 1, 3)\n",
    "\n",
    "sliced = [slice_img(generate_mat(\";\",\"NanumMyeongjo\", \"NORMAL\")) for i in range(3)]\n",
    "draw_subplot(sliced, 1, 3)\n",
    "\n",
    "sliced = [slice_img(generate_mat(\"2\",\"NanumMyeongjo\", \"NORMAL\")) for i in range(3)]\n",
    "draw_subplot(sliced, 1, 3)\n",
    "\n",
    "sliced = [slice_img(generate_mat(\")\",\"NanumMyeongjo\", \"NORMAL\")) for i in range(3)]\n",
    "draw_subplot(sliced, 1, 3)\n",
    "\n",
    "sliced = [slice_img(generate_mat(\"가\",\"NanumMyeongjo\", \"NORMAL\")) for i in range(3)]\n",
    "draw_subplot(sliced, 1, 3)\n",
    "\n",
    "sliced = [slice_img(generate_mat(\"낣\",\"NanumMyeongjo\", \"NORMAL\")) for i in range(3)]\n",
    "draw_subplot(sliced, 1, 3)\n",
    "\n",
    "sliced = [slice_img(generate_mat(\"A\",\"NanumMyeongjo\", \"BOLD\")) for i in range(3)]\n",
    "draw_subplot(sliced, 1, 3)\n",
    "\n",
    "sliced = [slice_img(generate_mat(\"o\",\"NanumMyeongjo\", \"BOLD\")) for i in range(3)]\n",
    "draw_subplot(sliced, 1, 3)"
   ]
  },
  {
   "cell_type": "code",
   "execution_count": 5,
   "metadata": {
    "collapsed": false
   },
   "outputs": [
    {
     "data": {
      "image/png": "[encoded data removed]",
      "text/plain": [
       "<matplotlib.figure.Figure at 0x7fdbdf9dca58>"
      ]
     },
     "metadata": {},
     "output_type": "display_data"
    }
   ],
   "source": [
    "import itertools\n",
    "import json\n",
    "\n",
    "fonts = [\"NanumMyeongjo\", \"NanumGothic\", \"Gungsuh\", \"Batang\", \"Dotum\"]\n",
    "weights = [\"NORMAL\", \"BOLD\"]\n",
    "\n",
    "\n",
    "def show_example(ch, fonts, weights):\n",
    "    sliced = []\n",
    "    for font, weight in itertools.product(fonts, weights):\n",
    "        sliced.append(slice_img(generate_mat(ch, font, weight)))\n",
    "    draw_subplot(sliced, math.ceil(len(sliced)/3), 3)\n",
    "    \n",
    "show_example(\"떫\", fonts, weights)"
   ]
  },
  {
   "cell_type": "code",
   "execution_count": 16,
   "metadata": {
    "collapsed": false
   },
   "outputs": [
    {
     "name": "stdout",
     "output_type": "stream",
     "text": [
      "saving 0001000th data...\n",
      "saving 0002000th data...\n",
      "saving 0003000th data...\n",
      "saving 0004000th data...\n",
      "saving 0005000th data...\n",
      "saving 0006000th data...\n",
      "saving 0007000th data...\n",
      "saving 0008000th data...\n",
      "saving 0009000th data...\n",
      "saving 0010000th data...\n",
      "saving 0011000th data...\n",
      "saving 0012000th data...\n",
      "saving 0013000th data...\n",
      "saving 0014000th data...\n",
      "saving 0015000th data...\n",
      "saving 0016000th data...\n",
      "saving 0017000th data...\n",
      "saving 0018000th data...\n",
      "saving 0019000th data...\n",
      "saving 0020000th data...\n",
      "saving 0021000th data...\n",
      "saving 0022000th data...\n",
      "saving 0023000th data...\n",
      "saving 0024000th data...\n",
      "saving 0025000th data...\n",
      "saving 0026000th data...\n",
      "saving 0027000th data...\n",
      "saving 0028000th data...\n",
      "saving 0029000th data...\n",
      "saving 0030000th data...\n",
      "saving 0031000th data...\n",
      "saving 0032000th data...\n",
      "saving 0033000th data...\n",
      "saving 0034000th data...\n",
      "saving 0035000th data...\n",
      "saving 0036000th data...\n",
      "saving 0037000th data...\n",
      "saving 0038000th data...\n",
      "saving 0039000th data...\n",
      "saving 0040000th data...\n",
      "saving 0041000th data...\n",
      "saving 0042000th data...\n",
      "saving 0043000th data...\n",
      "saving 0044000th data...\n",
      "saving 0045000th data...\n",
      "saving 0046000th data...\n",
      "saving 0047000th data...\n",
      "saving 0048000th data...\n",
      "saving 0049000th data...\n",
      "saving 0050000th data...\n",
      "saving 0051000th data...\n",
      "saving 0052000th data...\n",
      "saving 0053000th data...\n",
      "saving 0054000th data...\n",
      "saving 0055000th data...\n",
      "saving 0056000th data...\n",
      "saving 0057000th data...\n",
      "saving 0058000th data...\n",
      "saving 0059000th data...\n",
      "saving 0060000th data...\n",
      "saving 0061000th data...\n",
      "saving 0062000th data...\n",
      "saving 0063000th data...\n",
      "saving 0064000th data...\n",
      "saving 0065000th data...\n",
      "saving 0066000th data...\n",
      "saving 0067000th data...\n",
      "saving 0068000th data...\n",
      "saving 0069000th data...\n",
      "saving 0070000th data...\n",
      "saving 0071000th data...\n",
      "saving 0072000th data...\n",
      "saving 0073000th data...\n",
      "saving 0074000th data...\n",
      "saving 0075000th data...\n",
      "saving 0076000th data...\n",
      "saving 0077000th data...\n",
      "saving 0078000th data...\n",
      "saving 0079000th data...\n",
      "saving into tar file...\n",
      "saving index json...\n",
      "done\n"
     ]
    }
   ],
   "source": [
    "import tarfile\n",
    "import os\n",
    "base_path = \"data/en/\"\n",
    "index_data = []\n",
    "index_path = []\n",
    "\n",
    "for ch, font, weight in itertools.product(en_chset, fonts, weights):\n",
    "    # Gungsuh bold is corrupted\n",
    "    if font == \"Gungsuh\" and weight == \"BOLD\":\n",
    "        continue\n",
    "    for i in range(100):\n",
    "        pathname = \"%07d.png\" % len(index_data)\n",
    "        fullpath = base_path + pathname\n",
    "        imsave(fullpath, slice_img(generate_mat(ch, font, weight)))\n",
    "        index_data.append({'path': pathname, 'font': font, 'weight': weight, 'target': ch})\n",
    "        index_path.append(pathname)\n",
    "        if len(index_data) % 1000 == 0:\n",
    "            print (\"saving %07dth data...\\r\" % len(index_data))\n",
    "            \n",
    "with tarfile.open(base_path+\"data.tar\", \"w\") as tar:\n",
    "    print (\"saving into tar file...\")\n",
    "    for name in index_path:\n",
    "        tar.add(base_path+name, name)\n",
    "        os.remove(base_path+name)\n",
    "    tar.close()\n",
    "    \n",
    "\n",
    "with open('data/en/index.json', 'w') as outfile:\n",
    "    print (\"saving index json...\")\n",
    "    json.dump(index_data, outfile, indent=4, sort_keys=True, separators=(',', ':'))\n",
    "    \n",
    "print (\"done\")"
   ]
  },
  {
   "cell_type": "code",
   "execution_count": null,
   "metadata": {
    "collapsed": true
   },
   "outputs": [],
   "source": []
  }
 ],
 "metadata": {
  "kernelspec": {
   "display_name": "Python 3",
   "language": "python",
   "name": "python3"
  },
  "language_info": {
   "codemirror_mode": {
    "name": "ipython",
    "version": 3
   },
   "file_extension": ".py",
   "mimetype": "text/x-python",
   "name": "python",
   "nbconvert_exporter": "python",
   "pygments_lexer": "ipython3",
   "version": "3.4.3"
  }
 },
 "nbformat": 4,
 "nbformat_minor": 0
}
