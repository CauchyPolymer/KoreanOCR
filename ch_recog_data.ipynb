{
 "cells": [
  {
   "cell_type": "code",
   "execution_count": 26,
   "metadata": {
    "collapsed": false
   },
   "outputs": [
    {
     "name": "stdout",
     "output_type": "stream",
     "text": [
      "loaded 2350 characters\n"
     ]
    }
   ],
   "source": [
    "import random\n",
    "import math\n",
    "import io\n",
    "import cairocffi as cairo\n",
    "from scipy.ndimage import imread\n",
    "import matplotlib.pyplot as plt\n",
    "%matplotlib inline\n",
    "\n",
    "f = open(\"data/k1001.txt\")\n",
    "chset = f.read().splitlines()\n",
    "print(\"loaded %d characters\" % len(chset))\n",
    "\n",
    "def get_random_ch():\n",
    "    return chset[random.randrange(0,len(chset))]"
   ]
  },
  {
   "cell_type": "code",
   "execution_count": 38,
   "metadata": {
    "collapsed": false
   },
   "outputs": [
    {
     "name": "stdout",
     "output_type": "stream",
     "text": [
      "done\n"
     ]
    },
    {
     "data": {
      "image/png": "[encoded data removed]",
      "text/plain": [
       "<matplotlib.figure.Figure at 0x7f1ec13d6c88>"
      ]
     },
     "metadata": {},
     "output_type": "display_data"
    }
   ],
   "source": [
    "\n",
    "WIDTH, HEIGHT = 96, 96\n",
    "\n",
    "surface = cairo.ImageSurface (cairo.FORMAT_ARGB32, WIDTH, HEIGHT)\n",
    "ctx = cairo.Context (surface)\n",
    "\n",
    "ctx.set_source_rgb(0.1, 0.1, 0.1)\n",
    "ctx.select_font_face(\"NanumGothic\", cairo.FONT_SLANT_NORMAL, \n",
    "        cairo.FONT_WEIGHT_NORMAL)\n",
    "ctx.set_font_size(32)\n",
    "\n",
    "target = get_random_ch()\n",
    "\n",
    "ctx.move_to(0, 28)\n",
    "ctx.show_text(get_random_ch())\n",
    "ctx.move_to(32, 28)\n",
    "ctx.show_text(get_random_ch())\n",
    "ctx.move_to(64, 28)\n",
    "ctx.show_text(get_random_ch())\n",
    "ctx.move_to(0, 60)\n",
    "ctx.show_text(get_random_ch())\n",
    "ctx.move_to(32, 60)\n",
    "ctx.show_text(target)\n",
    "ctx.move_to(64, 60)\n",
    "ctx.show_text(get_random_ch())\n",
    "ctx.move_to(0, 92)\n",
    "ctx.show_text(get_random_ch())\n",
    "ctx.move_to(32, 92)\n",
    "ctx.show_text(get_random_ch())\n",
    "ctx.move_to(64, 92)\n",
    "ctx.show_text(get_random_ch())\n",
    "\n",
    "f = io.BytesIO()\n",
    "surface.write_to_png (f) # Output to PNG\n",
    "surface.write_to_png (\"example_text.png\") # Output to PNG\n",
    "cat = imread(f)\n",
    "plt.figure(num=None, figsize=(10, 10), dpi=72, facecolor='w', edgecolor='k')\n",
    "plt.title(target)\n",
    "plt.imshow(cat, interpolation='none')\n",
    "\n",
    "print(\"done\")"
   ]
  },
  {
   "cell_type": "code",
   "execution_count": null,
   "metadata": {
    "collapsed": true
   },
   "outputs": [],
   "source": []
  },
  {
   "cell_type": "code",
   "execution_count": null,
   "metadata": {
    "collapsed": true
   },
   "outputs": [],
   "source": []
  }
 ],
 "metadata": {
  "kernelspec": {
   "display_name": "Python 3",
   "language": "python",
   "name": "python3"
  },
  "language_info": {
   "codemirror_mode": {
    "name": "ipython",
    "version": 3
   },
   "file_extension": ".py",
   "mimetype": "text/x-python",
   "name": "python",
   "nbconvert_exporter": "python",
   "pygments_lexer": "ipython3",
   "version": "3.4.3"
  }
 },
 "nbformat": 4,
 "nbformat_minor": 0
}
