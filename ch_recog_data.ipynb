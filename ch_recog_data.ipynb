{
 "cells": [
  {
   "cell_type": "code",
   "execution_count": 17,
   "metadata": {
    "collapsed": false
   },
   "outputs": [
    {
     "name": "stdout",
     "output_type": "stream",
     "text": [
      "loaded 2350 characters\n"
     ]
    }
   ],
   "source": [
    "import random\n",
    "import math\n",
    "import io\n",
    "import cairocffi as cairo\n",
    "from scipy.ndimage import imread\n",
    "from matplotlib.image import imsave\n",
    "from scipy.misc import imresize\n",
    "import matplotlib.pyplot as plt\n",
    "import numpy as np\n",
    "import tarfile\n",
    "import gzip\n",
    "\n",
    "from PIL import Image\n",
    "%matplotlib inline\n",
    "\n",
    "f = open(\"data/k1001.txt\")\n",
    "ko_chset = f.read().splitlines()\n",
    "print(\"loaded %d characters\" % len(ko_chset))\n",
    "\n",
    "en_chset = []\n",
    "en_chset.extend([\"0\", \"1\", \"2\", \"3\", \"4\", \"5\", \"6\", \"7\", \"8\", \"9\"])\n",
    "en_chset.extend([\"a\", \"b\", \"c\", \"d\", \"e\", \"f\", \"g\", \"h\", \"i\", \"j\", \"k\", \"l\", \"m\", \"n\",\\\n",
    "              \"o\", \"p\", \"q\", \"r\", \"s\", \"t\", \"u\", \"v\", \"w\", \"x\", \"y\", \"z\"])\n",
    "en_chset.extend([\"A\", \"B\", \"C\", \"D\", \"E\", \"F\", \"G\", \"H\", \"I\", \"J\", \"K\", \"L\", \"M\", \"N\",\\\n",
    "              \"O\", \"P\", \"Q\", \"R\", \"S\", \"T\", \"U\", \"V\", \"W\", \"X\", \"Y\", \"Z\"])\n",
    "en_chset.extend([\"(\", \")\", \"'\", \"\\\"\", \".\", \",\", \":\", \";\", \"!\", \"?\", \"/\", \"@\", \"#\", \"$\",\\\n",
    "              \"%\", \"^\", \"&\", \"*\", \"[\", \"]\", \"{\", \"}\", \"<\", \">\", \"~\", \"-\", \"_\", \"「\", \"」\", \"『\", \"』\",\n",
    "                \"《\", \"》\", \"·\"])\n",
    "\n",
    "all_chset = ko_chset + en_chset\n",
    "\n",
    "fonts = [\"NanumMyeongjo\", \"NanumGothic\", \"Gungsuh\", \"Batang\", \"Dotum\", \"SM SSMyungJo Std\", \"Gulim\",\n",
    "         \"NanumGothicCoding\"]\n",
    "weights = [\"NORMAL\", \"BOLD\"]\n",
    "\n",
    "def get_random_ch(chset=all_chset):\n",
    "    return chset[random.randrange(0,len(chset))]"
   ]
  },
  {
   "cell_type": "code",
   "execution_count": 18,
   "metadata": {
    "collapsed": false
   },
   "outputs": [
    {
     "name": "stdout",
     "output_type": "stream",
     "text": [
      "function loaded\n"
     ]
    }
   ],
   "source": [
    "WIDTH, HEIGHT = 96, 96\n",
    "surface = cairo.ImageSurface (cairo.FORMAT_RGB24, WIDTH, HEIGHT)\n",
    "ctx = cairo.Context (surface)\n",
    "ctx.set_font_size(45)\n",
    "\n",
    "def get_text_dim(text):\n",
    "    extent = ctx.text_extents(text)\n",
    "    xbearing, ybearing, width, height, xadvance, yadvance = extent\n",
    "    return width, height\n",
    "\n",
    "def rgb2gray(rgb):\n",
    "    if len(rgb.shape) is 3:\n",
    "        return np.dot(rgb[...,:3], [0.299, 0.587, 0.114])\n",
    "    else:\n",
    "        print (\"Not RGB!\")\n",
    "        return rgb\n",
    "\n",
    "# Generate 64 X 64 image\n",
    "def generate_mat(target, font, weight=\"NORMAL\"):\n",
    "    \n",
    "    if weight == \"BOLD\":\n",
    "        weight = cairo.FONT_WEIGHT_BOLD\n",
    "    else:\n",
    "        weight = cairo.FONT_WEIGHT_NORMAL\n",
    "    \n",
    "    w, h = get_text_dim(target)\n",
    "    if h < 40:\n",
    "        h = 40\n",
    "    \n",
    "    ctx.set_source_rgb(1, 1, 1)\n",
    "    ctx.paint()\n",
    "    ctx.set_source_rgb(0, 0, 0)\n",
    "    ctx.select_font_face(font, cairo.FONT_SLANT_NORMAL,\n",
    "            weight)\n",
    "    \n",
    "    x = 48 - (w/2)\n",
    "    y = 85 - (h/2)\n",
    "    \n",
    "    if target == 'j' or target == 'g' or target == 'p' or target == 'q' or target == 'y':\n",
    "        y -= 4\n",
    "        \n",
    "    if target == \"《\" and font != \"SM SSMyungJo Std\" and font != \"NanumGothic\":\n",
    "        x -= 20\n",
    "        if font == \"NanumGothicCoding\":\n",
    "            x += 10\n",
    "        \n",
    "    if target == \"》\" and font == \"NanumGothicCoding\":\n",
    "        x -= 10\n",
    "        \n",
    "    if target == \"『\" and font != \"SM SSMyungJo Std\" and font != \"NanumGothic\" and font != \"NanumGothicCoding\":\n",
    "        x -= 20\n",
    "        \n",
    "    if target == \"「\" and font != \"NanumGothic\":\n",
    "        x -= 20\n",
    "        if font == \"NanumGothicCoding\":\n",
    "            x += 10\n",
    "    \n",
    "    ctx.move_to(x, y)\n",
    "    ctx.show_text(target)\n",
    "\n",
    "    fb = io.BytesIO()\n",
    "    surface.write_to_png (fb)\n",
    "    new_mat = imread(fb)\n",
    "    fb.close()\n",
    "    \n",
    "    return rgb2gray(new_mat)\n",
    "\n",
    "def get_mat(target, font=None, weight=None):\n",
    "    global mat\n",
    "    \n",
    "    if font is None:\n",
    "        font = random.choice(fonts)\n",
    "        \n",
    "    if weight is None:\n",
    "        weight = random.choice(weights)\n",
    "        \n",
    "    if font == \"Gungsuh\" and weight == \"BOLD\":\n",
    "        weight = \"NORMAL\"\n",
    "        \n",
    "    if font == \"SM SSMyungJo Std\" or font == \"NanumGothicCoding\" and target ==\"·\":\n",
    "        font = \"NanumMyeongjo\"\n",
    "    \n",
    "    if not font in mat :\n",
    "        mat[font] = dict()\n",
    "    \n",
    "    if not weight in mat[font] :\n",
    "        mat[font][weight] = dict()\n",
    "        \n",
    "    if target in mat[font][weight] :\n",
    "        return mat[font][weight][target]\n",
    "    \n",
    "    mat[font][weight][target] = generate_mat(target, font, weight)\n",
    "    return mat[font][weight][target]\n",
    "\n",
    "# Slice a target character from 96 X 96\n",
    "# with sizing and etc.\n",
    "def slice_img(mat):\n",
    "    # offset range are set with subtle reason\n",
    "    \n",
    "    scale_factor = random.randrange(52, 70)\n",
    "    x_offset = random.uniform(-4, 4)\n",
    "    x_start = round(48 - scale_factor / 2 + x_offset)\n",
    "    x_offset = random.uniform(-4, 4)\n",
    "    x_end = round(48 + scale_factor / 2 + x_offset)\n",
    "    y_offset = random.uniform(-3, 3)\n",
    "    y_start = round(48 - scale_factor / 2 + y_offset)\n",
    "    y_offset = random.uniform(-3, 3)\n",
    "    y_end = round(48 + scale_factor / 2 + y_offset)\n",
    "    sliced = mat[y_start:y_end, x_start:x_end]\n",
    "    return imresize(sliced, [32, 32])\n",
    "\n",
    "# Helper function to draw 3 X 3 plots\n",
    "def draw_subplot(array, w, h):\n",
    "    plt.figure(num=None, figsize=(3, 3), facecolor='w', edgecolor='k')\n",
    "    for i in range(len(array)):\n",
    "        plt.subplot(w,h,i+1)\n",
    "        plt.xticks(())\n",
    "        plt.yticks(())\n",
    "        plt.imshow(array[i], interpolation=\"none\", cmap=plt.get_cmap(\"gray\"))\n",
    "\n",
    "print (\"function loaded\")"
   ]
  },
  {
   "cell_type": "code",
   "execution_count": 19,
   "metadata": {
    "collapsed": false
   },
   "outputs": [
    {
     "data": {
      "image/png": "[encoded data removed]",
      "text/plain": [
       "<matplotlib.figure.Figure at 0x7f137d019780>"
      ]
     },
     "metadata": {},
     "output_type": "display_data"
    },
    {
     "data": {
      "image/png": "[encoded data removed]",
      "text/plain": [
       "<matplotlib.figure.Figure at 0x7f137d7d8630>"
      ]
     },
     "metadata": {},
     "output_type": "display_data"
    },
    {
     "data": {
      "image/png": "[encoded data removed]",
      "text/plain": [
       "<matplotlib.figure.Figure at 0x7f137f4e7358>"
      ]
     },
     "metadata": {},
     "output_type": "display_data"
    },
    {
     "data": {
      "image/png": "[encoded data removed]",
      "text/plain": [
       "<matplotlib.figure.Figure at 0x7f137e22f550>"
      ]
     },
     "metadata": {},
     "output_type": "display_data"
    },
    {
     "data": {
      "image/png": "[encoded data removed]",
      "text/plain": [
       "<matplotlib.figure.Figure at 0x7f137f357940>"
      ]
     },
     "metadata": {},
     "output_type": "display_data"
    },
    {
     "data": {
      "image/png": "[encoded data removed]",
      "text/plain": [
       "<matplotlib.figure.Figure at 0x7f137c86eb38>"
      ]
     },
     "metadata": {},
     "output_type": "display_data"
    },
    {
     "data": {
      "image/png": "[encoded data removed]",
      "text/plain": [
       "<matplotlib.figure.Figure at 0x7f137ddf5860>"
      ]
     },
     "metadata": {},
     "output_type": "display_data"
    },
    {
     "data": {
      "image/png": "[encoded data removed]",
      "text/plain": [
       "<matplotlib.figure.Figure at 0x7f137d5867f0>"
      ]
     },
     "metadata": {},
     "output_type": "display_data"
    },
    {
     "data": {
      "image/png": "[encoded data removed]",
      "text/plain": [
       "<matplotlib.figure.Figure at 0x7f137c1cb2b0>"
      ]
     },
     "metadata": {},
     "output_type": "display_data"
    },
    {
     "data": {
      "image/png": "[encoded data removed]",
      "text/plain": [
       "<matplotlib.figure.Figure at 0x7f137c0afba8>"
      ]
     },
     "metadata": {},
     "output_type": "display_data"
    },
    {
     "data": {
      "image/png": "[encoded data removed]",
      "text/plain": [
       "<matplotlib.figure.Figure at 0x7f137e2f5cc0>"
      ]
     },
     "metadata": {},
     "output_type": "display_data"
    },
    {
     "data": {
      "image/png": "[encoded data removed]",
      "text/plain": [
       "<matplotlib.figure.Figure at 0x7f137d8b2e10>"
      ]
     },
     "metadata": {},
     "output_type": "display_data"
    },
    {
     "data": {
      "image/png": "[encoded data removed]",
      "text/plain": [
       "<matplotlib.figure.Figure at 0x7f137fa81978>"
      ]
     },
     "metadata": {},
     "output_type": "display_data"
    },
    {
     "data": {
      "image/png": "[encoded data removed]",
      "text/plain": [
       "<matplotlib.figure.Figure at 0x7f137d019c18>"
      ]
     },
     "metadata": {},
     "output_type": "display_data"
    },
    {
     "data": {
      "image/png": "[encoded data removed]",
      "text/plain": [
       "<matplotlib.figure.Figure at 0x7f137fa81a20>"
      ]
     },
     "metadata": {},
     "output_type": "display_data"
    },
    {
     "data": {
      "image/png": "[encoded data removed]",
      "text/plain": [
       "<matplotlib.figure.Figure at 0x7f138072e3c8>"
      ]
     },
     "metadata": {},
     "output_type": "display_data"
    }
   ],
   "source": [
    "mat = dict()\n",
    "\n",
    "sliced = [slice_img(get_mat(\".\")) for i in range(7)]\n",
    "draw_subplot(sliced, 1, 7)\n",
    "\n",
    "sliced = [slice_img(get_mat(\";\")) for i in range(7)]\n",
    "draw_subplot(sliced, 1, 7)\n",
    "\n",
    "sliced = [slice_img(get_mat(\"2\")) for i in range(7)]\n",
    "draw_subplot(sliced, 1, 7)\n",
    "\n",
    "sliced = [slice_img(get_mat(\")\")) for i in range(7)]\n",
    "draw_subplot(sliced, 1, 7)\n",
    "\n",
    "sliced = [slice_img(get_mat(\"가\")) for i in range(7)]\n",
    "draw_subplot(sliced, 1, 7)\n",
    "\n",
    "sliced = [slice_img(get_mat(\"낢\")) for i in range(7)]\n",
    "draw_subplot(sliced, 1, 7)\n",
    "\n",
    "sliced = [slice_img(get_mat(\"·\")) for i in range(7)]\n",
    "draw_subplot(sliced, 1, 7)\n",
    "\n",
    "sliced = [slice_img(get_mat(\"《\")) for i in range(7)]\n",
    "draw_subplot(sliced, 1, 7)\n",
    "\n",
    "sliced = [slice_img(get_mat(\"》\")) for i in range(7)]\n",
    "draw_subplot(sliced, 1, 7)\n",
    "\n",
    "sliced = [slice_img(get_mat(\"「\")) for i in range(7)]\n",
    "draw_subplot(sliced, 1, 7)\n",
    "\n",
    "sliced = [slice_img(get_mat(\"」\")) for i in range(7)]\n",
    "draw_subplot(sliced, 1, 7)\n",
    "\n",
    "sliced = [slice_img(get_mat(\"『\")) for i in range(7)]\n",
    "draw_subplot(sliced, 1, 7)\n",
    "\n",
    "sliced = [slice_img(get_mat(\"』\")) for i in range(7)]\n",
    "draw_subplot(sliced, 1, 7)\n",
    "\n",
    "sliced = [slice_img(get_mat(get_random_ch())) for i in range(7)]\n",
    "draw_subplot(sliced, 1, 7)\n",
    "\n",
    "sliced = [slice_img(get_mat(get_random_ch())) for i in range(7)]\n",
    "draw_subplot(sliced, 1, 7)\n",
    "\n",
    "sliced = [slice_img(get_mat(get_random_ch())) for i in range(7)]\n",
    "draw_subplot(sliced, 1, 7)"
   ]
  },
  {
   "cell_type": "code",
   "execution_count": 20,
   "metadata": {
    "collapsed": false
   },
   "outputs": [],
   "source": [
    "def save_chset_random(chsets, chws, path, num):\n",
    "    print (\"saving into %s...\" % path)\n",
    "    index_data = []\n",
    "\n",
    "    tar = tarfile.open(path, \"w|gz\")\n",
    "    \n",
    "    chw_sum = 0\n",
    "    chws = list(chws)\n",
    "    for i in range(len(chws)):\n",
    "        chw_sum += chws[i]\n",
    "        chws[i] = chw_sum\n",
    "    \n",
    "    for i in range(num):\n",
    "        while True:\n",
    "            font = random.choice(fonts)\n",
    "            weight = random.choice(weights)\n",
    "            if font != \"Gungsuh\" or weight != \"BOLD\":\n",
    "                break\n",
    "                \n",
    "        ch_ran = random.uniform(0, chw_sum)\n",
    "        for i, chset in enumerate(chsets):\n",
    "            if (ch_ran < chws[i]):\n",
    "                ch = random.choice(chset)\n",
    "                break\n",
    "            \n",
    "        if len(index_data) % 10000 == 0:\n",
    "            print (\"saving %7dth data...\\r\" % (len(index_data)+1))\n",
    "        pathname = \"%07d.png\" % len(index_data)\n",
    "        sliced = slice_img(get_mat(ch, font, weight))\n",
    "        ft = io.BytesIO()\n",
    "        Image.fromarray(sliced, mode='L').save(ft, format=\"PNG\", optimize=True, compress_level=9)\n",
    "        index_data.append({'path': pathname, 'font': font, 'weight': weight, 'target': ch})\n",
    "        ti = tarfile.TarInfo(pathname)\n",
    "        ti.size = ft.getbuffer().nbytes\n",
    "        if ti.size < 1 :\n",
    "            print(\"Error: size too small\")\n",
    "            print(ft)\n",
    "            ft.close()\n",
    "        ft.seek(0)\n",
    "        tar.addfile(ti, ft)\n",
    "        ft.close()\n",
    "    \n",
    "    ti = tarfile.TarInfo(\"index.json\")\n",
    "    ft = io.BytesIO()\n",
    "    ft_str = io.TextIOWrapper(ft)\n",
    "    json.dump(index_data, ft_str, indent=4, sort_keys=True, separators=(',', ':'))\n",
    "    ft_str.flush()\n",
    "    ft.seek(0,2)\n",
    "    ti.size = ft.tell()\n",
    "    ft.seek(0)\n",
    "    tar.addfile(ti, ft)\n",
    "    ft.close()\n",
    "\n",
    "    tar.close()\n",
    "    print (\"done\")"
   ]
  },
  {
   "cell_type": "code",
   "execution_count": 21,
   "metadata": {
    "collapsed": false
   },
   "outputs": [
    {
     "name": "stdout",
     "output_type": "stream",
     "text": [
      "NanumMyeongjo\n",
      "NanumGothic\n",
      "Gungsuh\n",
      "Batang\n",
      "Dotum\n",
      "SM SSMyungJo Std\n",
      "Gulim\n",
      "NanumGothicCoding\n"
     ]
    },
    {
     "data": {
      "image/png": "[encoded data removed]",
      "text/plain": [
       "<matplotlib.figure.Figure at 0x7f13b8e07780>"
      ]
     },
     "metadata": {},
     "output_type": "display_data"
    }
   ],
   "source": [
    "import itertools\n",
    "import json\n",
    "\n",
    "\n",
    "def show_example(ch, fonts, weights):\n",
    "    sliced = []\n",
    "    for font in fonts:\n",
    "        print(font)\n",
    "    for font, weight in itertools.product(fonts, weights):\n",
    "        sliced.append(slice_img(get_mat(ch, font, weight)))\n",
    "    draw_subplot(sliced, math.ceil(len(sliced)/2), 2)\n",
    "\n",
    "mat = dict()\n",
    "show_example(\"삶\", fonts, weights)"
   ]
  },
  {
   "cell_type": "code",
   "execution_count": 22,
   "metadata": {
    "collapsed": false
   },
   "outputs": [
    {
     "name": "stdout",
     "output_type": "stream",
     "text": [
      "saving into data/161020.tgz...\n",
      "saving       1th data...\n",
      "saving   10001th data...\n",
      "saving   20001th data...\n",
      "saving   30001th data...\n",
      "saving   40001th data...\n",
      "saving   50001th data...\n",
      "saving   60001th data...\n",
      "saving   70001th data...\n",
      "saving   80001th data...\n",
      "saving   90001th data...\n",
      "saving  100001th data...\n",
      "saving  110001th data...\n",
      "saving  120001th data...\n",
      "saving  130001th data...\n",
      "saving  140001th data...\n",
      "saving  150001th data...\n",
      "saving  160001th data...\n",
      "saving  170001th data...\n",
      "saving  180001th data...\n",
      "saving  190001th data...\n",
      "saving  200001th data...\n",
      "saving  210001th data...\n",
      "saving  220001th data...\n",
      "saving  230001th data...\n",
      "saving  240001th data...\n",
      "saving  250001th data...\n",
      "saving  260001th data...\n",
      "saving  270001th data...\n",
      "saving  280001th data...\n",
      "saving  290001th data...\n",
      "done\n"
     ]
    }
   ],
   "source": [
    "mat = dict()\n",
    "save_chset_random((en_chset, ko_chset), (1, 3), \"data/161020.tgz\", 300000)"
   ]
  },
  {
   "cell_type": "code",
   "execution_count": null,
   "metadata": {
    "collapsed": true
   },
   "outputs": [],
   "source": []
  }
 ],
 "metadata": {
  "kernelspec": {
   "display_name": "tensor",
   "language": "python",
   "name": "tensor"
  },
  "language_info": {
   "codemirror_mode": {
    "name": "ipython",
    "version": 3
   },
   "file_extension": ".py",
   "mimetype": "text/x-python",
   "name": "python",
   "nbconvert_exporter": "python",
   "pygments_lexer": "ipython3",
   "version": "3.5.2"
  }
 },
 "nbformat": 4,
 "nbformat_minor": 0
}
