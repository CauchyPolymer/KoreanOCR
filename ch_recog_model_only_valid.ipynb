{
 "cells": [
  {
   "cell_type": "code",
   "execution_count": 1,
   "metadata": {
    "collapsed": false
   },
   "outputs": [
    {
     "name": "stdout",
     "output_type": "stream",
     "text": [
      "packs loaded\n",
      "{\n",
      "  \"stdin_port\": 55771,\n",
      "  \"kernel_name\": \"\",\n",
      "  \"iopub_port\": 51741,\n",
      "  \"transport\": \"tcp\",\n",
      "  \"shell_port\": 56146,\n",
      "  \"ip\": \"127.0.0.1\",\n",
      "  \"hb_port\": 60576,\n",
      "  \"control_port\": 33023,\n",
      "  \"signature_scheme\": \"hmac-sha256\",\n",
      "  \"key\": \"3a13728b-86aa-44fc-89ed-93f76d8b9995\"\n",
      "}\n",
      "\n",
      "Paste the above JSON into a file, and connect with:\n",
      "    $> ipython <app> --existing <file>\n",
      "or, if you are local, you can connect with just:\n",
      "    $> ipython <app> --existing /run/user/128932/jupyter/kernel-9fe032ee-dacb-44cc-a748-af53983fa303.json \n",
      "or even just:\n",
      "    $> ipython <app> --existing \n",
      "if this is the most recent IPython session you have started.\n"
     ]
    }
   ],
   "source": [
    "import numpy as np\n",
    "import tensorflow as tf\n",
    "import matplotlib.pyplot as plt\n",
    "from scipy.ndimage import imread\n",
    "import json\n",
    "import gzip\n",
    "import tarfile\n",
    "import random\n",
    "from hangul_utils import check_syllable, split_syllable_char, split_syllables, join_jamos\n",
    "%matplotlib inline\n",
    "plt.rcParams['image.cmap'] = 'Greys'\n",
    "\n",
    "print(\"packs loaded\")\n",
    "%connect_info"
   ]
  },
  {
   "cell_type": "code",
   "execution_count": 2,
   "metadata": {
    "collapsed": false
   },
   "outputs": [
    {
     "name": "stdout",
     "output_type": "stream",
     "text": [
      "index loaded\n",
      "tar opened\n",
      " 0% complete (1 / 79200)\n",
      "13% complete (10001 / 79200)\n",
      "25% complete (20001 / 79200)\n",
      "38% complete (30001 / 79200)\n",
      "51% complete (40001 / 79200)\n",
      "63% complete (50001 / 79200)\n",
      "76% complete (60001 / 79200)\n",
      "88% complete (70001 / 79200)\n",
      "image loaded\n",
      "index loaded\n",
      "tar opened\n",
      " 0% complete (1 / 211500)\n",
      " 5% complete (10001 / 211500)\n",
      " 9% complete (20001 / 211500)\n",
      "14% complete (30001 / 211500)\n",
      "19% complete (40001 / 211500)\n",
      "24% complete (50001 / 211500)\n",
      "28% complete (60001 / 211500)\n",
      "33% complete (70001 / 211500)\n",
      "38% complete (80001 / 211500)\n",
      "43% complete (90001 / 211500)\n",
      "47% complete (100001 / 211500)\n",
      "52% complete (110001 / 211500)\n",
      "57% complete (120001 / 211500)\n",
      "61% complete (130001 / 211500)\n",
      "66% complete (140001 / 211500)\n",
      "71% complete (150001 / 211500)\n",
      "76% complete (160001 / 211500)\n",
      "80% complete (170001 / 211500)\n",
      "85% complete (180001 / 211500)\n",
      "90% complete (190001 / 211500)\n",
      "95% complete (200001 / 211500)\n",
      "99% complete (210001 / 211500)\n",
      "image loaded\n",
      "label loaded\n"
     ]
    }
   ],
   "source": [
    "en_chset = []\n",
    "en_chset.extend([\"0\", \"1\", \"2\", \"3\", \"4\", \"5\", \"6\", \"7\", \"8\", \"9\"])\n",
    "en_chset.extend([\"a\", \"b\", \"c\", \"d\", \"e\", \"f\", \"g\", \"h\", \"i\", \"j\", \"k\", \"l\", \"m\", \"n\",\\\n",
    "              \"o\", \"p\", \"q\", \"r\", \"s\", \"t\", \"u\", \"v\", \"w\", \"x\", \"y\", \"z\"])\n",
    "en_chset.extend([\"A\", \"B\", \"C\", \"D\", \"E\", \"F\", \"G\", \"H\", \"I\", \"J\", \"K\", \"L\", \"M\", \"N\",\\\n",
    "              \"O\", \"P\", \"Q\", \"R\", \"S\", \"T\", \"U\", \"V\", \"W\", \"X\", \"Y\", \"Z\"])\n",
    "en_chset.extend([\"(\", \")\", \"'\", \"\\\"\", \".\", \",\", \":\", \";\", \"!\", \"?\", \"/\", \"@\", \"#\", \"$\",\\\n",
    "              \"%\", \"^\", \"&\", \"*\", \"[\", \"]\", \"{\", \"}\", \"<\", \">\", \"~\", \"-\"])\n",
    "\n",
    "ko_chset_cho = [\"ㄱ\", \"ㄲ\", \"ㄴ\", \"ㄷ\", \"ㄸ\", \"ㄹ\", \"ㅁ\", \"ㅂ\", \"ㅃ\", \"ㅅ\", \"ㅆ\", \"ㅇ\", \"ㅈ\", \"ㅉ\", \"ㅊ\", \"ㅋ\", \"ㅌ\", \"ㅍ\", \"ㅎ\"]\n",
    "ko_chset_jung = [\"ㅏ\", \"ㅐ\", \"ㅑ\", \"ㅒ\", \"ㅓ\", \"ㅔ\", \"ㅕ\", \"ㅖ\", \"ㅗ\", \"ㅘ\", \"ㅙ\", \"ㅚ\", \"ㅛ\", \"ㅜ\", \"ㅝ\", \"ㅞ\", \"ㅟ\", \"ㅠ\", \"ㅡ\", \"ㅢ\", \"ㅣ\"]\n",
    "ko_chset_jong = [\"X\", \"ㄱ\", \"ㄲ\", \"ㄳ\", \"ㄴ\", \"ㄵ\", \"ㄶ\", \"ㄷ\", \"ㄹ\", \"ㄺ\", \"ㄻ\", \"ㄼ\", \"ㄽ\", \"ㄾ\", \"ㄿ\", \"ㅀ\", \"ㅁ\", \"ㅂ\", \"ㅄ\", \"ㅅ\", \"ㅆ\", \"ㅇ\", \"ㅈ\", \"ㅊ\", \"ㅋ\", \"ㅌ\", \"ㅍ\", \"ㅎ\"]\n",
    "\n",
    "# Read training and test images from file\n",
    "def get_image_index_from_file(indexf, dataf):\n",
    "    index_data = []\n",
    "    with gzip.open(indexf, 'rt') as arc:\n",
    "        index_data.extend(json.load(arc))\n",
    "        print(\"index loaded\")\n",
    "\n",
    "    # Read-stream mode r|*\n",
    "    with tarfile.open(dataf, \"r|*\") as tar:\n",
    "        print(\"tar opened\")\n",
    "        img_data = []\n",
    "        for i, member in enumerate(index_data):\n",
    "            if i%10000 == 1:\n",
    "                print(\"%2.0f%% complete (%d / %d)\" % (i / len(index_data) * 100, i, len(index_data)))\n",
    "            ti = tar.next()\n",
    "            if ti.name != member['path']:\n",
    "                print(\"ERROR: order doesn't match\")\n",
    "                break;\n",
    "            f = tar.extractfile(ti)\n",
    "            img_data.append(1 - (imread(f)/255))\n",
    "        img = np.array(img_data)\n",
    "        del img_data\n",
    "        print(\"image loaded\")\n",
    "    return (index_data, img)\n",
    "\n",
    "def get_label(index_data):\n",
    "    # len + 1 for one 'invalid' label\n",
    "    label_ko_cho = np.zeros([len(index_data), len(ko_chset_cho)+1])\n",
    "    label_ko_jung = np.zeros([len(index_data), len(ko_chset_jung)+1])\n",
    "    label_ko_jong = np.zeros([len(index_data), len(ko_chset_jong)+1])\n",
    "    label_en = np.zeros([len(index_data), len(en_chset)+1])\n",
    "    for i, member in enumerate(index_data):\n",
    "        target = member['target'] # Target Character\n",
    "        # Is Hangeul?\n",
    "        if (check_syllable(target)):\n",
    "            splited = split_syllable_char(target)\n",
    "            label_en[i][len(en_chset)] = 1\n",
    "            label_ko_cho[i][ko_chset_cho.index(splited[0])] = 1\n",
    "            label_ko_jung[i][ko_chset_jung.index(splited[1])] = 1\n",
    "            if len(splited) < 3:\n",
    "                label_ko_jong[i][0] = 1\n",
    "            else:\n",
    "                label_ko_jong[i][ko_chset_jong.index(splited[2])] = 1\n",
    "        else :\n",
    "            label_ko_cho[i][len(ko_chset_cho)] = 1\n",
    "            label_ko_jung[i][len(ko_chset_jung)] = 1\n",
    "            label_ko_jong[i][len(ko_chset_jong)] = 1\n",
    "            label_en[i][en_chset.index(target)] = 1\n",
    "            \n",
    "    # Concatenate all labels\n",
    "    label = np.concatenate((label_ko_cho, label_ko_jung, label_ko_jong, label_en), axis=1)\n",
    "    print(\"label loaded\")\n",
    "    return label\n",
    "\n",
    "def get_all():\n",
    "    index_data_en, img_en = get_image_index_from_file('data/en/index.json.gz', 'data/en/data.tar.gz')\n",
    "    index_data_ko, img_ko = get_image_index_from_file('data/ko/index.json.gz', 'data/ko/data.tar.gz')\n",
    "    index_data = index_data_en + index_data_ko\n",
    "    img = np.concatenate((img_en, img_ko))\n",
    "    label = get_label(index_data)\n",
    "    return (index_data, img, label)\n",
    "        \n",
    "index_data, img, label = get_all()"
   ]
  },
  {
   "cell_type": "code",
   "execution_count": 3,
   "metadata": {
    "collapsed": false
   },
   "outputs": [
    {
     "name": "stdout",
     "output_type": "stream",
     "text": [
      "shuffled\n"
     ]
    }
   ],
   "source": [
    "def getIndex(l, indexes):\n",
    "    return [l[i] for i in indexes]\n",
    "\n",
    "def shuffle(n, *lists):\n",
    "    perm = np.random.permutation(n)\n",
    "    lists = list(lists)\n",
    "    for i in range(len(lists)):\n",
    "        if hasattr(lists[i], \"shape\"):\n",
    "            lists[i] = lists[i][perm]\n",
    "        else:\n",
    "            lists[i] = getIndex(lists[i], perm)\n",
    "    return tuple(lists)\n",
    "\n",
    "img, label, index_data = shuffle(img.shape[0], img, label, index_data)\n",
    "\n",
    "print(\"shuffled\")"
   ]
  },
  {
   "cell_type": "code",
   "execution_count": 4,
   "metadata": {
    "collapsed": false
   },
   "outputs": [
    {
     "name": "stdout",
     "output_type": "stream",
     "text": [
      "(290700, 32, 32)\n",
      "{'target': '엉', 'path': '0126573.png', 'weight': 'BOLD', 'font': 'NanumGothic'}\n",
      "[ 0.  0.  0.  0.  0.  0.  0.  0.  0.  0.  0.  1.  0.  0.  0.  0.  0.  0.\n",
      "  0.  0.  0.  0.  0.  0.  1.  0.  0.  0.  0.  0.  0.  0.  0.  0.  0.  0.\n",
      "  0.  0.  0.  0.  0.  0.  0.  0.  0.  0.  0.  0.  0.  0.  0.  0.  0.  0.\n",
      "  0.  0.  0.  0.  0.  0.  0.  0.  0.  1.  0.  0.  0.  0.  0.  0.  0.  0.\n",
      "  0.  0.  0.  0.  0.  0.  0.  0.  0.  0.  0.  0.  0.  0.  0.  0.  0.  0.\n",
      "  0.  0.  0.  0.  0.  0.  0.  0.  0.  0.  0.  0.  0.  0.  0.  0.  0.  0.\n",
      "  0.  0.  0.  0.  0.  0.  0.  0.  0.  0.  0.  0.  0.  0.  0.  0.  0.  0.\n",
      "  0.  0.  0.  0.  0.  0.  0.  0.  0.  0.  0.  0.  0.  0.  0.  0.  0.  0.\n",
      "  0.  0.  0.  0.  0.  0.  0.  0.  0.  0.  0.  0.  0.  0.  0.  1.]\n",
      "{'target': 'n', 'path': '0021437.png', 'weight': 'NORMAL', 'font': 'Dotum'}\n",
      "[ 0.  0.  0.  0.  0.  0.  0.  0.  0.  0.  0.  0.  0.  0.  0.  0.  0.  0.\n",
      "  0.  1.  0.  0.  0.  0.  0.  0.  0.  0.  0.  0.  0.  0.  0.  0.  0.  0.\n",
      "  0.  0.  0.  0.  0.  1.  0.  0.  0.  0.  0.  0.  0.  0.  0.  0.  0.  0.\n",
      "  0.  0.  0.  0.  0.  0.  0.  0.  0.  0.  0.  0.  0.  0.  0.  0.  1.  0.\n",
      "  0.  0.  0.  0.  0.  0.  0.  0.  0.  0.  0.  0.  0.  0.  0.  0.  0.  0.\n",
      "  0.  0.  0.  0.  1.  0.  0.  0.  0.  0.  0.  0.  0.  0.  0.  0.  0.  0.\n",
      "  0.  0.  0.  0.  0.  0.  0.  0.  0.  0.  0.  0.  0.  0.  0.  0.  0.  0.\n",
      "  0.  0.  0.  0.  0.  0.  0.  0.  0.  0.  0.  0.  0.  0.  0.  0.  0.  0.\n",
      "  0.  0.  0.  0.  0.  0.  0.  0.  0.  0.  0.  0.  0.  0.  0.  0.]\n"
     ]
    },
    {
     "data": {
      "image/png": "[encoded data removed]",
      "text/plain": [
       "<matplotlib.figure.Figure at 0x7fc055b3da20>"
      ]
     },
     "metadata": {},
     "output_type": "display_data"
    },
    {
     "data": {
      "image/png": "[encoded data removed]",
      "text/plain": [
       "<matplotlib.figure.Figure at 0x7fc055b9e5c0>"
      ]
     },
     "metadata": {},
     "output_type": "display_data"
    }
   ],
   "source": [
    "print(img.shape)\n",
    "plt.figure()\n",
    "plt.imshow(img[0], interpolation='none')\n",
    "print(index_data[0])\n",
    "print(label[0])\n",
    "\n",
    "plt.figure()\n",
    "plt.imshow(img[1], interpolation='none')\n",
    "print(index_data[1])\n",
    "print(label[1])"
   ]
  },
  {
   "cell_type": "code",
   "execution_count": 5,
   "metadata": {
    "collapsed": false
   },
   "outputs": [
    {
     "name": "stdout",
     "output_type": "stream",
     "text": [
      "function loaded\n"
     ]
    }
   ],
   "source": [
    "trainimg = img[:-15000]\n",
    "trainlabel = label[:-15000]\n",
    "testimg = img[-15000:-3000]\n",
    "testlabel = label[-15000:-3000]\n",
    "cvimg = img[-3000:]\n",
    "cvlabel = label[-3000:]\n",
    "randidx = np.random.randint(trainimg.shape[0], size=2)\n",
    "\n",
    "def get_batch(i, batch_size, input_var):\n",
    "    if batch_size > input_var.shape[0]:\n",
    "        return input_var\n",
    "    start = (i*batch_size)%input_var.shape[0]\n",
    "    overflow = start + batch_size - input_var.shape[0]\n",
    "    if overflow <= 0:\n",
    "        return input_var[start:start+batch_size]\n",
    "    else:\n",
    "        return np.r_[input_var[start:], input_var[:overflow]]\n",
    "    \n",
    "def flatten_cnn(layer):\n",
    "    layer_shape = layer.get_shape().as_list()\n",
    "    n_out = layer_shape[1] * layer_shape[2] * layer_shape[3]\n",
    "    return tf.reshape(layer, [-1, n_out])\n",
    "\n",
    "def build_nn(shape, X):\n",
    "    n_before = int(X.get_shape()[1])\n",
    "    W = tf.Variable(tf.truncated_normal([n_before, shape], stddev=0.1))\n",
    "    b = tf.Variable(tf.constant(0.1, shape=[shape]))\n",
    "    return tf.matmul(X, W)+b\n",
    "\n",
    "def build_cnn(cnn_shape, patch_shape, X, stride=1):\n",
    "    n_before = int(X.get_shape()[3])\n",
    "    W = tf.Variable(tf.truncated_normal([patch_shape[0], patch_shape[1], n_before, cnn_shape], stddev=0.1))\n",
    "    b = tf.Variable(tf.constant(0.1, shape=[cnn_shape]))\n",
    "    layer = tf.nn.relu(tf.nn.conv2d(X, W, strides=[1, stride, stride, 1], padding='SAME') + b)\n",
    "    return layer\n",
    "\n",
    "def max2d_pool(layer):\n",
    "    return tf.nn.max_pool(layer, ksize=[1, 2, 2, 1], strides=[1, 2, 2, 1], padding='SAME')\n",
    "\n",
    "def slice_label(tf_label, len_tuple):\n",
    "    cur = 0\n",
    "    sliced = []\n",
    "    for l in len_tuple:\n",
    "        sliced.append(tf.slice(tf_label, [0, cur], [-1, l]))\n",
    "        cur += l\n",
    "    return tuple(sliced)\n",
    "\n",
    "print(\"function loaded\")"
   ]
  },
  {
   "cell_type": "code",
   "execution_count": 6,
   "metadata": {
    "collapsed": false
   },
   "outputs": [
    {
     "name": "stdout",
     "output_type": "stream",
     "text": [
      "session loaded\n"
     ]
    }
   ],
   "source": [
    "X = tf.placeholder(tf.float32, [None, 32, 32])\n",
    "Y = tf.placeholder(tf.float32, [None, label.shape[1]])\n",
    "keep_prob = tf.placeholder(tf.float32)\n",
    "\n",
    "Y_cho, Y_jung, Y_jong, Y_en = slice_label(Y,\n",
    "                                         (len(ko_chset_cho)+1,\n",
    "                                         len(ko_chset_jung)+1,\n",
    "                                         len(ko_chset_jong)+1,\n",
    "                                         len(en_chset)+1))\n",
    "# Small inception model\n",
    "# http://laonple.blog.me/220704822964\n",
    "X_reshape = tf.reshape(X, [-1, 32, 32, 1])\n",
    "cnn_1_5 = build_cnn(12, [5,5], X_reshape)\n",
    "cnn_1_3 = build_cnn(36, [3,3], X_reshape)\n",
    "cnn_1_concat = tf.concat(3, [cnn_1_5, cnn_1_3])\n",
    "cnn_1_pool = max2d_pool(cnn_1_concat) # 16 * 16 * 48\n",
    "\n",
    "cnn_2_5 = build_cnn(18, [5,5], cnn_1_pool)\n",
    "cnn_2_3 = build_cnn(48, [3,3], cnn_1_pool)\n",
    "cnn_2_1 = build_cnn(30, [1,1], cnn_1_pool)\n",
    "cnn_2_concat = tf.concat(3, [cnn_2_5, cnn_2_3, cnn_2_1])\n",
    "cnn_2_pool = max2d_pool(cnn_2_concat) # 8 * 8 * 96\n",
    "\n",
    "cnn_3_5_reduce = build_cnn(18, [1,1], cnn_2_pool)\n",
    "cnn_3_5 = build_cnn(36, [5,5], cnn_3_5_reduce)\n",
    "cnn_3_3_reduce = build_cnn(64, [1,1], cnn_2_pool)\n",
    "cnn_3_3 = build_cnn(96, [3,3], cnn_3_3_reduce)\n",
    "cnn_3_1 = build_cnn(60, [1,1], cnn_2_pool)\n",
    "cnn_3_concat = tf.concat(3, [cnn_3_5, cnn_3_3, cnn_3_1])\n",
    "cnn_3_pool = max2d_pool(cnn_3_concat) # 4 * 4 * 192\n",
    "\n",
    "dense_1 = tf.nn.relu(build_nn(1024, flatten_cnn(cnn_3_pool)))\n",
    "dropout_1 = tf.nn.dropout(dense_1, keep_prob)\n",
    "\n",
    "logit = build_nn(label.shape[1], dropout_1)\n",
    "logit_cho, logit_jung, logit_jong, logit_en = slice_label(logit,\n",
    "                                         (len(ko_chset_cho)+1,\n",
    "                                         len(ko_chset_jung)+1,\n",
    "                                         len(ko_chset_jong)+1,\n",
    "                                         len(en_chset)+1))\n",
    "h_cho = tf.nn.softmax(logit_cho)\n",
    "h_jung = tf.nn.softmax(logit_jung)\n",
    "h_jong = tf.nn.softmax(logit_jong)\n",
    "h_en = tf.nn.softmax(logit_en)\n",
    "\n",
    "learning_rate = tf.placeholder(tf.float32)\n",
    "cost_cho = tf.nn.softmax_cross_entropy_with_logits(logit_cho, Y_cho)\n",
    "cost_jung = tf.nn.softmax_cross_entropy_with_logits(logit_jung, Y_jung)\n",
    "cost_jong = tf.nn.softmax_cross_entropy_with_logits(logit_jong, Y_jong)\n",
    "cost_en = tf.nn.softmax_cross_entropy_with_logits(logit_en, Y_en)\n",
    "cost = cost_cho + cost_jung * 1.5 + cost_jong * 0.5 + cost_en\n",
    "cost_mean = tf.reduce_mean(cost) # mean of batch set\n",
    "\n",
    "train = tf.train.AdamOptimizer(learning_rate).minimize(cost)\n",
    "\n",
    "correct_cho = tf.equal(tf.argmax(Y_cho,1), tf.argmax(h_cho,1))\n",
    "correct_jung = tf.equal(tf.argmax(Y_jung,1), tf.argmax(h_jung,1))\n",
    "correct_jong = tf.equal(tf.argmax(Y_jong,1), tf.argmax(h_jong,1))\n",
    "correct_two = tf.logical_or(tf.logical_and(correct_cho, tf.logical_or(correct_jung, correct_jong)),\n",
    "                           tf.logical_and(correct_jung, correct_jong))\n",
    "correct_ko = tf.logical_and(tf.logical_and(correct_cho, correct_jung), correct_jong)\n",
    "correct_en = tf.equal(tf.argmax(Y_en,1), tf.argmax(h_en,1))\n",
    "correct_all = tf.logical_and(correct_ko, correct_en)\n",
    "accuracy = tf.reduce_mean(tf.cast(correct_all, tf.float32))\n",
    "accuracy_two = tf.reduce_mean(tf.cast(correct_two, tf.float32))\n",
    "accuracy_cho = tf.reduce_mean(tf.cast(correct_cho, tf.float32))\n",
    "accuracy_jung = tf.reduce_mean(tf.cast(correct_jung, tf.float32))\n",
    "accuracy_jong = tf.reduce_mean(tf.cast(correct_jong, tf.float32))\n",
    "accuracy_ko = tf.reduce_mean(tf.cast(correct_ko, tf.float32))\n",
    "accuracy_en = tf.reduce_mean(tf.cast(correct_en, tf.float32))\n",
    "\n",
    "sess = tf.Session()\n",
    "print(\"session loaded\")"
   ]
  },
  {
   "cell_type": "code",
   "execution_count": 7,
   "metadata": {
    "collapsed": false
   },
   "outputs": [
    {
     "name": "stdout",
     "output_type": "stream",
     "text": [
      "tf function loaded\n"
     ]
    }
   ],
   "source": [
    "def init_session():\n",
    "    sess.run(tf.initialize_all_variables())\n",
    "    print(\"session initialized\")\n",
    "    \n",
    "def fetch_in_batch(fetch_tuple, imgset, labelset, i, batchsize):\n",
    "    batch_x = get_batch(i, batchsize, imgset)\n",
    "    batch_y = get_batch(i, batchsize, labelset)\n",
    "    return sess.run(fetch_tuple, feed_dict={X:batch_x, Y:batch_y, keep_prob:1})\n",
    "    \n",
    "def batch_accuracy(imgset, labelset):\n",
    "    allsize = imgset.shape[0]\n",
    "    batchsize = 100\n",
    "    batch_per_epoch = int(allsize/batchsize)\n",
    "    batch_accuracy = 0\n",
    "    for i in range(batch_per_epoch):\n",
    "        batch_accuracy += fetch_in_batch(accuracy, imgset, labelset, i, batchsize)\n",
    "    return batch_accuracy / batch_per_epoch\n",
    "\n",
    "def get_accuracy_no_batch(imgset, labelset):\n",
    "    return sess.run((accuracy, accuracy_cho, accuracy_jung, accuracy_jong, accuracy_two, accuracy_en),\n",
    "                                        feed_dict={X:imgset, Y:labelset, keep_prob:1})\n",
    "\n",
    "def get_accuracy(imgset, labelset, batch=False):\n",
    "    if batch:\n",
    "        allsize = imgset.shape[0]\n",
    "        batchsize = 100\n",
    "        batch_per_epoch = int(allsize/batchsize)\n",
    "        temp_tuple = 0, 0, 0, 0, 0, 0\n",
    "        for i in range(batch_per_epoch):\n",
    "            batch_x = get_batch(i, batchsize, imgset)\n",
    "            batch_y = get_batch(i, batchsize, labelset)\n",
    "            temp_tuple = tuple([item1 + item2 for item1, item2 in\n",
    "                                zip(temp_tuple,\n",
    "                                    get_accuracy_no_batch(batch_x, batch_y))])\n",
    "        tacc, tacc_cho, tacc_jung, tacc_jong, tacc_two, tacc_en = tuple([item / batch_per_epoch for item in temp_tuple])\n",
    "    else:\n",
    "        tacc, tacc_cho, tacc_jung, tacc_jong, tacc_two, tacc_en = get_accuracy_no_batch(imgset, labelset)\n",
    "    return tacc, tacc_cho, tacc_jung, tacc_jong, tacc_two, tacc_en\n",
    "    \n",
    "def print_accuracy(imgset, labelset, batch=False):\n",
    "    tacc, tacc_cho, tacc_jung, tacc_jong, tacc_two, tacc_en = get_accuracy(imgset, labelset, batch)\n",
    "    print (\"overall accuracy = %.3f                          \" % tacc)\n",
    "    print (\"two of three = %.3f\" % tacc_two)\n",
    "    print (\"cho = %.3f\" % tacc_cho)\n",
    "    print (\"jung = %.3f\" % tacc_jung)\n",
    "    print (\"jong = %.3f\" % tacc_jong)\n",
    "    print (\"en = %.3f\" % tacc_en)\n",
    "\n",
    "def do_training(is_console=False, lr_init = 0.003):\n",
    "    trainsize = trainimg.shape[0]\n",
    "    batchsize = 100\n",
    "    batch_per_epoch = int(trainsize/batchsize)\n",
    "    print (\"Training %d, mini-batch %d * %d\" % (trainsize, batchsize, batch_per_epoch))\n",
    "\n",
    "    lr = lr_init\n",
    "    for i in range(batch_per_epoch*5):\n",
    "        if i % 200 == 0 :\n",
    "            tacc = get_accuracy(cvimg, cvlabel, False)[0]\n",
    "            print (\"%6dth epoch : cv accuracy = %.3f                  \" % (i // batch_per_epoch, tacc))\n",
    "            \n",
    "        if i % batch_per_epoch == 0 :\n",
    "            print_accuracy(testimg, testlabel, True)\n",
    "\n",
    "        batch_x = get_batch(i, batchsize, trainimg)\n",
    "        batch_y = get_batch(i, batchsize, trainlabel)\n",
    "        cur_cost = sess.run((train, cost_mean), feed_dict={X:batch_x, Y:batch_y, keep_prob:0.5, learning_rate:lr})[1]\n",
    "        if(is_console):\n",
    "            print (\"%dth... lr = %.2e, cost = %.2e\\r\" % (i, lr, cur_cost), end=\"\")\n",
    "        lr = lr * (1 - 0.0003)\n",
    "    print(\"train complete--------------------------------\")\n",
    "    print(\"test accuracy ---\")\n",
    "    print_accuracy(testimg, testlabel, True)\n",
    "    print(\"train accuracy ---\")\n",
    "    print_accuracy(trainimg, trainlabel, True)\n",
    "    \n",
    "def error_check(chset, pred_tf, label_tf, imgset, labelset):\n",
    "    label_len = label_tf.get_shape()[1]\n",
    "    n_error = np.zeros([label_len, label_len])\n",
    "    n_all = np.zeros(label_len)\n",
    "    chset.append(\"inv\")\n",
    "    \n",
    "    allsize = imgset.shape[0]\n",
    "    batchsize = 100\n",
    "    batch_per_epoch = int(allsize/batchsize)\n",
    "    batch_accuracy = 0\n",
    "    for i in range(batch_per_epoch):\n",
    "        h, y = fetch_in_batch((pred_tf, label_tf), imgset, labelset, i, batchsize)\n",
    "        for j in range(batchsize):\n",
    "            n_all[np.argmax(y[j])] += 1\n",
    "            if (np.argmax(h[j]) != np.argmax(y[j])):\n",
    "                n_error[np.argmax(y[j])][np.argmax(h[j])] += 1\n",
    "\n",
    "    print (\"Error rate\")\n",
    "    for i, ch in enumerate(chset):\n",
    "        most_error = np.argmax(n_error[i])\n",
    "        print (\"%s : %2.0f%% (%4d / %4d)\" %\n",
    "               (ch, float(np.sum(n_error[i])) / n_all[i] * 100, np.sum(n_error[i]), n_all[i]), end=\"\")\n",
    "        if n_error[i][most_error] > 0:\n",
    "            print (\"%6d errors with %s\" % (n_error[i][most_error], chset[most_error]))\n",
    "        else:\n",
    "            print (\"\")\n",
    "            \n",
    "print(\"tf function loaded\")"
   ]
  },
  {
   "cell_type": "code",
   "execution_count": 13,
   "metadata": {
    "collapsed": false
   },
   "outputs": [
    {
     "name": "stdout",
     "output_type": "stream",
     "text": [
      "overall accuracy = 0.993                          \n",
      "two of three = 1.000\n",
      "cho = 0.999\n",
      "jung = 0.997\n",
      "jong = 0.999\n",
      "en = 0.997\n"
     ]
    }
   ],
   "source": [
    "print_accuracy(testimg, testlabel, True)"
   ]
  },
  {
   "cell_type": "code",
   "execution_count": null,
   "metadata": {
    "collapsed": false,
    "scrolled": true
   },
   "outputs": [],
   "source": [
    "error_check(en_chset, h_en, Y_en, testimg, testlabel)"
   ]
  },
  {
   "cell_type": "code",
   "execution_count": 15,
   "metadata": {
    "collapsed": false
   },
   "outputs": [
    {
     "data": {
      "text/plain": [
       "'ch_recog_model_only_valid.ckpt'"
      ]
     },
     "execution_count": 15,
     "metadata": {},
     "output_type": "execute_result"
    }
   ],
   "source": [
    "saver = tf.train.Saver()\n",
    "saver.save(sess, \"ch_recog_model_only_valid.ckpt\")"
   ]
  },
  {
   "cell_type": "code",
   "execution_count": null,
   "metadata": {
    "collapsed": true
   },
   "outputs": [],
   "source": []
  }
 ],
 "metadata": {
  "kernelspec": {
   "display_name": "Python 3",
   "language": "python",
   "name": "python3"
  },
  "language_info": {
   "codemirror_mode": {
    "name": "ipython",
    "version": 3
   },
   "file_extension": ".py",
   "mimetype": "text/x-python",
   "name": "python",
   "nbconvert_exporter": "python",
   "pygments_lexer": "ipython3",
   "version": "3.4.3"
  }
 },
 "nbformat": 4,
 "nbformat_minor": 1
}
