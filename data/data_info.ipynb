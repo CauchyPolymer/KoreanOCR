{
 "cells": [
  {
   "cell_type": "code",
   "execution_count": 12,
   "metadata": {
    "collapsed": false
   },
   "outputs": [],
   "source": [
    "import tarfile\n",
    "import json\n",
    "import io\n",
    "from hangul_utils import check_syllable, split_syllable_char, split_syllables, join_jamos\n",
    "from __init__ import en_chset\n",
    "\n",
    "def get_data_info(data_path):\n",
    "    index_data = []\n",
    "    with tarfile.open(data_path, \"r:*\") as tar:\n",
    "        print(\"tar opened\")\n",
    "        ft = tar.extractfile(\"index.json\")\n",
    "        ft_str = io.TextIOWrapper(ft)\n",
    "        index_data.extend(json.load(ft_str))\n",
    "        tar.close()\n",
    "        \n",
    "    en_target = dict()\n",
    "    font = dict()\n",
    "    weight = dict()\n",
    "    which_set = {\"en\" : 0, \"ko\" : 1}\n",
    "    \n",
    "    for member in index_data:\n",
    "        if member[\"font\"] in font:\n",
    "            font[member[\"font\"]] += 1\n",
    "        else:\n",
    "            font[member[\"font\"]] = 1\n",
    "            \n",
    "        if member[\"weight\"] in weight:\n",
    "            weight[member[\"weight\"]] += 1\n",
    "        else:\n",
    "            weight[member[\"weight\"]] = 1\n",
    "            \n",
    "        if member[\"target\"] in en_chset:\n",
    "            which_set[\"en\"] += 1\n",
    "            if member[\"target\"] in en_target:\n",
    "                en_target[member[\"target\"]] += 1\n",
    "            else:\n",
    "                en_target[member[\"target\"]] = 1\n",
    "                \n",
    "        else:\n",
    "            which_set[\"ko\"] += 1\n",
    "            \n",
    "    print (font)\n",
    "    print (weight)\n",
    "    print (en_target)\n",
    "    print (which_set)"
   ]
  },
  {
   "cell_type": "code",
   "execution_count": 13,
   "metadata": {
    "collapsed": false
   },
   "outputs": [
    {
     "name": "stdout",
     "output_type": "stream",
     "text": [
      "tar opened\n",
      "{'Batang': 66751, 'Gungsuh': 33227, 'Dotum': 66707, 'NanumMyeongjo': 66693, 'NanumGothic': 66622}\n",
      "{'BOLD': 133265, 'NORMAL': 166735}\n",
      "{\"'\": 857, '0': 856, 'Z': 885, '(': 890, 'b': 917, 'D': 838, 'H': 831, 'U': 863, 'A': 842, 'q': 843, 'e': 872, '^': 821, 'f': 837, 'G': 819, '5': 854, 'w': 857, 'W': 818, 'Q': 818, '}': 845, 'F': 851, 'x': 882, '&': 882, 's': 864, '#': 876, 'n': 904, 'R': 831, 'J': 870, 'M': 824, '$': 836, ']': 872, ',': 880, 'K': 831, '!': 846, '\"': 892, '9': 833, 'N': 845, '<': 901, '*': 848, '3': 850, 'E': 862, '%': 815, '{': 804, 'k': 896, 'T': 892, 'P': 839, 'r': 848, '?': 891, '[': 872, '>': 870, 'i': 867, '6': 860, 'v': 826, '~': 868, 'L': 864, 'l': 849, 'y': 832, '1': 787, ';': 821, 'Y': 868, 't': 827, 'm': 860, ')': 858, 'V': 845, 'u': 851, 'a': 886, '7': 869, '.': 844, '8': 859, 'd': 832, 'X': 799, '-': 821, 'O': 849, 'c': 857, 'j': 887, 'C': 808, 'S': 875, '2': 842, '/': 814, 'o': 830, 'B': 870, ':': 841, 'p': 874, 'h': 863, 'g': 877, 'I': 869, '4': 848, 'z': 819, '@': 819}\n",
      "{'en': 75005, 'ko': 224996}\n"
     ]
    }
   ],
   "source": [
    "get_data_info(\"161018_noise.tgz\")"
   ]
  },
  {
   "cell_type": "code",
   "execution_count": 14,
   "metadata": {
    "collapsed": false
   },
   "outputs": [
    {
     "name": "stdout",
     "output_type": "stream",
     "text": [
      "tar opened\n",
      "{'Gungsuh': 22778, 'NanumMyeongjo': 46169, 'Batang': 46171, 'SM SSMyungJo Std': 46393, 'Gulim': 46138, 'Dotum': 46134, 'NanumGothic': 46217}\n",
      "{'BOLD': 138778, 'NORMAL': 161222}\n",
      "{\"'\": 820, '0': 822, 'Z': 890, '(': 845, 'b': 902, 'D': 853, 'H': 863, 'U': 845, 'A': 850, 'q': 822, 'e': 883, '^': 838, 'f': 843, 'G': 871, '5': 870, 'w': 875, 'T': 882, 'W': 926, '}': 880, 'Q': 886, 'F': 838, 'x': 871, '&': 870, 's': 842, '#': 836, 'n': 796, 'R': 832, 'M': 779, '$': 865, ']': 891, ',': 855, 'K': 846, '!': 857, '\"': 853, '9': 857, 'N': 780, '<': 832, '*': 812, '3': 896, 'E': 871, '%': 846, '{': 879, 'k': 840, 'J': 858, 'P': 790, 'r': 887, '?': 872, '[': 884, '>': 847, 'i': 826, 'X': 847, '6': 869, 'v': 826, '~': 804, 'L': 864, 'l': 865, 'y': 876, '@': 810, '2': 864, 'Y': 815, 't': 868, 'm': 854, ')': 846, 'V': 840, 'u': 846, 'a': 867, '7': 866, '.': 833, '8': 904, 'd': 838, '1': 854, '-': 829, 'O': 852, ';': 906, 'j': 835, 'C': 881, 'S': 876, '/': 869, 'o': 874, 'B': 831, ':': 855, 'p': 821, 'h': 865, 'g': 835, 'c': 834, 'I': 855, '4': 859, 'z': 865}\n",
      "{'en': 75072, 'ko': 224929}\n"
     ]
    }
   ],
   "source": [
    "get_data_info(\"161019.tgz\")"
   ]
  },
  {
   "cell_type": "code",
   "execution_count": null,
   "metadata": {
    "collapsed": true
   },
   "outputs": [],
   "source": []
  }
 ],
 "metadata": {
  "kernelspec": {
   "display_name": "tensor",
   "language": "python",
   "name": "tensor"
  },
  "language_info": {
   "codemirror_mode": {
    "name": "ipython",
    "version": 3
   },
   "file_extension": ".py",
   "mimetype": "text/x-python",
   "name": "python",
   "nbconvert_exporter": "python",
   "pygments_lexer": "ipython3",
   "version": "3.5.2"
  }
 },
 "nbformat": 4,
 "nbformat_minor": 1
}
