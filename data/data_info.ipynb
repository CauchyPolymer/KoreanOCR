{
 "cells": [
  {
   "cell_type": "code",
   "execution_count": 22,
   "metadata": {
    "collapsed": true
   },
   "outputs": [],
   "source": [
    "import tarfile\n",
    "import json\n",
    "import io\n",
    "from hangul_utils import check_syllable, split_syllable_char, split_syllables, join_jamos\n",
    "\n",
    "en_chset = []\n",
    "en_chset.extend([\"0\", \"1\", \"2\", \"3\", \"4\", \"5\", \"6\", \"7\", \"8\", \"9\"])\n",
    "en_chset.extend([\"a\", \"b\", \"c\", \"d\", \"e\", \"f\", \"g\", \"h\", \"i\", \"j\", \"k\", \"l\", \"m\", \"n\",\\\n",
    "              \"o\", \"p\", \"q\", \"r\", \"s\", \"t\", \"u\", \"v\", \"w\", \"x\", \"y\", \"z\"])\n",
    "en_chset.extend([\"A\", \"B\", \"C\", \"D\", \"E\", \"F\", \"G\", \"H\", \"I\", \"J\", \"K\", \"L\", \"M\", \"N\",\\\n",
    "              \"O\", \"P\", \"Q\", \"R\", \"S\", \"T\", \"U\", \"V\", \"W\", \"X\", \"Y\", \"Z\"])\n",
    "en_chset.extend([\"(\", \")\", \"'\", \"\\\"\", \".\", \",\", \":\", \";\", \"!\", \"?\", \"/\", \"@\", \"#\", \"$\",\\\n",
    "              \"%\", \"^\", \"&\", \"*\", \"[\", \"]\", \"{\", \"}\", \"<\", \">\", \"~\", \"-\"])\n",
    "\n",
    "def get_data_info(data_path):\n",
    "    index_data = []\n",
    "    with tarfile.open(data_path, \"r:*\") as tar:\n",
    "        print(\"tar opened\")\n",
    "        ft = tar.extractfile(\"index.json\")\n",
    "        ft_str = io.TextIOWrapper(ft)\n",
    "        index_data.extend(json.load(ft_str))\n",
    "        tar.close()\n",
    "        \n",
    "    en_target = dict()\n",
    "    font = dict()\n",
    "    weight = dict()\n",
    "    \n",
    "    for member in index_data:\n",
    "        if member[\"font\"] in font:\n",
    "            font[member[\"font\"]] += 1\n",
    "        else:\n",
    "            font[member[\"font\"]] = 1\n",
    "            \n",
    "        if member[\"weight\"] in weight:\n",
    "            weight[member[\"weight\"]] += 1\n",
    "        else:\n",
    "            weight[member[\"weight\"]] = 1\n",
    "            \n",
    "        if member[\"target\"] in en_chset:\n",
    "            if member[\"target\"] in en_target:\n",
    "                en_target[member[\"target\"]] += 1\n",
    "            else:\n",
    "                en_target[member[\"target\"]] = 1\n",
    "            \n",
    "    print (font)\n",
    "    print (weight)\n",
    "    print (en_target)"
   ]
  },
  {
   "cell_type": "code",
   "execution_count": 24,
   "metadata": {
    "collapsed": false
   },
   "outputs": [
    {
     "name": "stdout",
     "output_type": "stream",
     "text": [
      "tar opened\n",
      "{'NanumGothic': 66920, 'Batang': 66608, 'NanumMyeongjo': 66710, 'Gungsuh': 33381, 'Dotum': 66381}\n",
      "{'NORMAL': 166675, 'BOLD': 133325}\n",
      "{'N': 830, '8': 866, 'x': 818, 'o': 900, 'G': 830, 'X': 813, 'H': 836, 's': 841, 'd': 883, 'i': 880, '?': 791, 'f': 787, '-': 869, 'y': 854, 'C': 836, '\"': 819, '9': 835, 'M': 831, 'Q': 827, 'w': 848, 'J': 852, '7': 830, \"'\": 886, '&': 881, 'k': 834, ';': 819, '/': 887, 'n': 838, ',': 869, 'p': 853, 'b': 864, 't': 863, '^': 876, ')': 795, 'h': 858, '>': 883, ']': 863, 'F': 865, 'u': 845, 'B': 841, 'g': 837, 'z': 897, 'a': 916, 'I': 868, 'E': 845, 'j': 879, '5': 880, 'q': 804, '6': 863, 'v': 829, 'Y': 893, '4': 808, '<': 827, '#': 848, '3': 861, ':': 854, 'Z': 850, 'K': 844, '{': 863, 'e': 846, 'T': 841, '}': 865, 'L': 866, '.': 871, '!': 848, '0': 830, '*': 842, 'W': 842, 'R': 825, '[': 862, '(': 828, 'S': 834, 'l': 823, 'V': 804, 'P': 874, 'm': 851, 'D': 865, 'U': 856, '1': 848, '~': 819, '%': 877, '@': 827, '2': 870, 'c': 905, 'r': 844, 'O': 878, 'A': 872, '$': 890}\n"
     ]
    }
   ],
   "source": [
    "get_data_info(\"161018_noise.tgz\")"
   ]
  },
  {
   "cell_type": "code",
   "execution_count": null,
   "metadata": {
    "collapsed": true
   },
   "outputs": [],
   "source": []
  }
 ],
 "metadata": {
  "kernelspec": {
   "display_name": "tensor",
   "language": "python",
   "name": "tensor"
  },
  "language_info": {
   "codemirror_mode": {
    "name": "ipython",
    "version": 3
   },
   "file_extension": ".py",
   "mimetype": "text/x-python",
   "name": "python",
   "nbconvert_exporter": "python",
   "pygments_lexer": "ipython3",
   "version": "3.5.2"
  }
 },
 "nbformat": 4,
 "nbformat_minor": 1
}
