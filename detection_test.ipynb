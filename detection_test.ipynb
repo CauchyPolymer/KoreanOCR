{
 "cells": [
  {
   "cell_type": "code",
   "execution_count": null,
   "metadata": {
    "collapsed": false
   },
   "outputs": [],
   "source": [
    "import cv2\n",
    "import numpy as np\n",
    "import cairocffi as cairo\n",
    "import io\n",
    "import preproc\n",
    "import detection\n",
    "from detection.util import CHARTYPE\n",
    "from chrecog.predict import get_session, load_ckpt, get_pred_one, get_candidate\n",
    "sess = get_session()\n",
    "load_ckpt(sess, \"data/ckpt/161103_2ID.ckpt\")\n",
    "import reconst\n",
    "import matplotlib.pyplot as plt\n",
    "%matplotlib inline\n",
    "plt.rcParams['image.cmap'] = 'Greys'"
   ]
  },
  {
   "cell_type": "code",
   "execution_count": null,
   "metadata": {
    "collapsed": true
   },
   "outputs": [],
   "source": [
    "def write_line(text, font=\"NanumGothic\"):\n",
    "    WIDTH, HEIGHT = 540, 100\n",
    "    surface = cairo.ImageSurface (cairo.FORMAT_RGB24, WIDTH, HEIGHT)\n",
    "    ctx = cairo.Context (surface)\n",
    "    ctx.set_font_size(40)\n",
    "    ctx.set_source_rgb(0, 0, 0)\n",
    "    ctx.paint()\n",
    "    ctx.set_source_rgb(1, 1, 1)\n",
    "    ctx.select_font_face(font, cairo.FONT_SLANT_NORMAL,\n",
    "                cairo.FONT_WEIGHT_NORMAL)\n",
    "    ctx.move_to(20,40)\n",
    "    ctx.show_text(text)\n",
    "    fb = io.BytesIO()\n",
    "    surface.write_to_png(fb)\n",
    "    fb.seek(0)\n",
    "    blob = fb.read()\n",
    "    blob_array = np.asarray(bytearray(blob), dtype=np.uint8)\n",
    "    mat = cv2.imdecode(blob_array, 0)\n",
    "    fb.close()\n",
    "    return mat"
   ]
  },
  {
   "cell_type": "code",
   "execution_count": null,
   "metadata": {
    "collapsed": false
   },
   "outputs": [],
   "source": [
    "def test_line(text, font=\"NanumGothic\"):\n",
    "    img = write_line(text, font)\n",
    "    plt.figure()\n",
    "    plt.imshow(img)\n",
    "\n",
    "    processed = preproc.process(img)\n",
    "    graphs = detection.get_graphs(processed)\n",
    "\n",
    "    i=0\n",
    "    for p in graphs:\n",
    "        for l in p.lines:\n",
    "            for c in l.chars:\n",
    "                if c.type == CHARTYPE.BLANK:\n",
    "                    c.value = \" \"\n",
    "                    continue\n",
    "                if i % 10 == 0:\n",
    "                    plt.figure()\n",
    "                plt.subplot(1,10,i%10+1)\n",
    "                plt.xticks(())\n",
    "                plt.yticks(())\n",
    "                plt.imshow(c.img)\n",
    "                i += 1\n",
    "                c.pred = get_pred_one(c.img / 255)\n",
    "                c.value = get_candidate(c.pred)\n",
    "\n",
    "    print(reconst.build_graphs(graphs), end=\"\")\n",
    "    \n",
    "def test_img(path):\n",
    "    img = cv2.imread(path)\n",
    "    plt.figure()\n",
    "    plt.imshow(img)\n",
    "\n",
    "    processed = preproc.process(img)\n",
    "    graphs = detection.get_graphs(processed)\n",
    "\n",
    "    i=0\n",
    "    j=0\n",
    "    plt.figure()\n",
    "    for p in graphs:\n",
    "        for l in p.lines:\n",
    "            for c in l.chars:\n",
    "                if c.type == CHARTYPE.BLANK:\n",
    "                    c.value = \" \"\n",
    "                    continue\n",
    "                assert c.type == CHARTYPE.CHAR\n",
    "                if j > 10:\n",
    "                    j = 0\n",
    "                    i += 1\n",
    "                plt.subplot(10,10, i*10 + j + 1)\n",
    "                plt.xticks(())\n",
    "                plt.yticks(())\n",
    "                plt.imshow(c.img)\n",
    "                j += 1\n",
    "                if i*10 + j + 1 > 100:\n",
    "                    i = 0\n",
    "                    j = 0\n",
    "                    plt.figure()\n",
    "                c.pred = get_pred_one(c.img / 255)\n",
    "                c.value = get_candidate(c.pred)\n",
    "\n",
    "    print(reconst.build_graphs(graphs))"
   ]
  },
  {
   "cell_type": "code",
   "execution_count": null,
   "metadata": {
    "collapsed": false
   },
   "outputs": [],
   "source": [
    "test_img(\"data/sample_sa.png\")\n",
    "#test_line(\"오. 왜 그러세요...\")\n",
    "#test_line(\"컴퓨터공학과입니다.\")"
   ]
  },
  {
   "cell_type": "code",
   "execution_count": null,
   "metadata": {
    "collapsed": true
   },
   "outputs": [],
   "source": []
  }
 ],
 "metadata": {
  "kernelspec": {
   "display_name": "tensor",
   "language": "python",
   "name": "tensor"
  },
  "language_info": {
   "codemirror_mode": {
    "name": "ipython",
    "version": 3
   },
   "file_extension": ".py",
   "mimetype": "text/x-python",
   "name": "python",
   "nbconvert_exporter": "python",
   "pygments_lexer": "ipython3",
   "version": "3.5.2"
  }
 },
 "nbformat": 4,
 "nbformat_minor": 1
}
